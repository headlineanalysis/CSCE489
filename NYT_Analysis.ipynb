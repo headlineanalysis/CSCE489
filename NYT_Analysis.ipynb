{
 "cells": [
  {
   "cell_type": "markdown",
   "metadata": {},
   "source": [
    "# Analysis framework for 13 MILLION NEW YORK TIMES ARTICLE TITLES!\n",
    "## _from 1882-2016_"
   ]
  },
  {
   "cell_type": "markdown",
   "metadata": {},
   "source": [
    "### First, load the three csv files"
   ]
  },
  {
   "cell_type": "code",
   "execution_count": 9,
   "metadata": {
    "collapsed": false
   },
   "outputs": [
    {
     "data": {
      "text/html": [
       "\n",
       "    <div class=\"bk-root\">\n",
       "        <a href=\"http://bokeh.pydata.org\" target=\"_blank\" class=\"bk-logo bk-logo-small bk-logo-notebook\"></a>\n",
       "        <span id=\"7f96d5d5-5e12-4680-88ab-5ec80abd171c\">Loading BokehJS ...</span>\n",
       "    </div>"
      ]
     },
     "metadata": {},
     "output_type": "display_data"
    },
    {
     "data": {
      "application/javascript": [
       "\n",
       "(function(global) {\n",
       "  function now() {\n",
       "    return new Date();\n",
       "  }\n",
       "\n",
       "  var force = \"1\";\n",
       "\n",
       "  if (typeof (window._bokeh_onload_callbacks) === \"undefined\" || force !== \"\") {\n",
       "    window._bokeh_onload_callbacks = [];\n",
       "    window._bokeh_is_loading = undefined;\n",
       "  }\n",
       "\n",
       "\n",
       "  \n",
       "  if (typeof (window._bokeh_timeout) === \"undefined\" || force !== \"\") {\n",
       "    window._bokeh_timeout = Date.now() + 5000;\n",
       "    window._bokeh_failed_load = false;\n",
       "  }\n",
       "\n",
       "  var NB_LOAD_WARNING = {'data': {'text/html':\n",
       "     \"<div style='background-color: #fdd'>\\n\"+\n",
       "     \"<p>\\n\"+\n",
       "     \"BokehJS does not appear to have successfully loaded. If loading BokehJS from CDN, this \\n\"+\n",
       "     \"may be due to a slow or bad network connection. Possible fixes:\\n\"+\n",
       "     \"</p>\\n\"+\n",
       "     \"<ul>\\n\"+\n",
       "     \"<li>re-rerun `output_notebook()` to attempt to load from CDN again, or</li>\\n\"+\n",
       "     \"<li>use INLINE resources instead, as so:</li>\\n\"+\n",
       "     \"</ul>\\n\"+\n",
       "     \"<code>\\n\"+\n",
       "     \"from bokeh.resources import INLINE\\n\"+\n",
       "     \"output_notebook(resources=INLINE)\\n\"+\n",
       "     \"</code>\\n\"+\n",
       "     \"</div>\"}};\n",
       "\n",
       "  function display_loaded() {\n",
       "    if (window.Bokeh !== undefined) {\n",
       "      Bokeh.$(\"#7f96d5d5-5e12-4680-88ab-5ec80abd171c\").text(\"BokehJS successfully loaded.\");\n",
       "    } else if (Date.now() < window._bokeh_timeout) {\n",
       "      setTimeout(display_loaded, 100)\n",
       "    }\n",
       "  }\n",
       "\n",
       "  function run_callbacks() {\n",
       "    window._bokeh_onload_callbacks.forEach(function(callback) { callback() });\n",
       "    delete window._bokeh_onload_callbacks\n",
       "    console.info(\"Bokeh: all callbacks have finished\");\n",
       "  }\n",
       "\n",
       "  function load_libs(js_urls, callback) {\n",
       "    window._bokeh_onload_callbacks.push(callback);\n",
       "    if (window._bokeh_is_loading > 0) {\n",
       "      console.log(\"Bokeh: BokehJS is being loaded, scheduling callback at\", now());\n",
       "      return null;\n",
       "    }\n",
       "    if (js_urls == null || js_urls.length === 0) {\n",
       "      run_callbacks();\n",
       "      return null;\n",
       "    }\n",
       "    console.log(\"Bokeh: BokehJS not loaded, scheduling load and callback at\", now());\n",
       "    window._bokeh_is_loading = js_urls.length;\n",
       "    for (var i = 0; i < js_urls.length; i++) {\n",
       "      var url = js_urls[i];\n",
       "      var s = document.createElement('script');\n",
       "      s.src = url;\n",
       "      s.async = false;\n",
       "      s.onreadystatechange = s.onload = function() {\n",
       "        window._bokeh_is_loading--;\n",
       "        if (window._bokeh_is_loading === 0) {\n",
       "          console.log(\"Bokeh: all BokehJS libraries loaded\");\n",
       "          run_callbacks()\n",
       "        }\n",
       "      };\n",
       "      s.onerror = function() {\n",
       "        console.warn(\"failed to load library \" + url);\n",
       "      };\n",
       "      console.log(\"Bokeh: injecting script tag for BokehJS library: \", url);\n",
       "      document.getElementsByTagName(\"head\")[0].appendChild(s);\n",
       "    }\n",
       "  };var element = document.getElementById(\"7f96d5d5-5e12-4680-88ab-5ec80abd171c\");\n",
       "  if (element == null) {\n",
       "    console.log(\"Bokeh: ERROR: autoload.js configured with elementid '7f96d5d5-5e12-4680-88ab-5ec80abd171c' but no matching script tag was found. \")\n",
       "    return false;\n",
       "  }\n",
       "\n",
       "  var js_urls = ['https://cdn.pydata.org/bokeh/release/bokeh-0.12.3.min.js', 'https://cdn.pydata.org/bokeh/release/bokeh-widgets-0.12.3.min.js'];\n",
       "\n",
       "  var inline_js = [\n",
       "    function(Bokeh) {\n",
       "      Bokeh.set_log_level(\"info\");\n",
       "    },\n",
       "    \n",
       "    function(Bokeh) {\n",
       "      \n",
       "      Bokeh.$(\"#7f96d5d5-5e12-4680-88ab-5ec80abd171c\").text(\"BokehJS is loading...\");\n",
       "    },\n",
       "    function(Bokeh) {\n",
       "      console.log(\"Bokeh: injecting CSS: https://cdn.pydata.org/bokeh/release/bokeh-0.12.3.min.css\");\n",
       "      Bokeh.embed.inject_css(\"https://cdn.pydata.org/bokeh/release/bokeh-0.12.3.min.css\");\n",
       "      console.log(\"Bokeh: injecting CSS: https://cdn.pydata.org/bokeh/release/bokeh-widgets-0.12.3.min.css\");\n",
       "      Bokeh.embed.inject_css(\"https://cdn.pydata.org/bokeh/release/bokeh-widgets-0.12.3.min.css\");\n",
       "    }\n",
       "  ];\n",
       "\n",
       "  function run_inline_js() {\n",
       "    \n",
       "    if ((window.Bokeh !== undefined) || (force === \"1\")) {\n",
       "      for (var i = 0; i < inline_js.length; i++) {\n",
       "        inline_js[i](window.Bokeh);\n",
       "      }if (force === \"1\") {\n",
       "        display_loaded();\n",
       "      }} else if (Date.now() < window._bokeh_timeout) {\n",
       "      setTimeout(run_inline_js, 100);\n",
       "    } else if (!window._bokeh_failed_load) {\n",
       "      console.log(\"Bokeh: BokehJS failed to load within specified timeout.\");\n",
       "      window._bokeh_failed_load = true;\n",
       "    } else if (!force) {\n",
       "      var cell = $(\"#7f96d5d5-5e12-4680-88ab-5ec80abd171c\").parents('.cell').data().cell;\n",
       "      cell.output_area.append_execute_result(NB_LOAD_WARNING)\n",
       "    }\n",
       "\n",
       "  }\n",
       "\n",
       "  if (window._bokeh_is_loading === 0) {\n",
       "    console.log(\"Bokeh: BokehJS loaded, going straight to plotting\");\n",
       "    run_inline_js();\n",
       "  } else {\n",
       "    load_libs(js_urls, function() {\n",
       "      console.log(\"Bokeh: BokehJS plotting callback run at\", now());\n",
       "      run_inline_js();\n",
       "    });\n",
       "  }\n",
       "}(this));"
      ]
     },
     "metadata": {},
     "output_type": "display_data"
    }
   ],
   "source": [
    "import csv, nltk\n",
    "import pandas as pd\n",
    "import numpy as np\n",
    "from decimal import Decimal\n",
    "from bokeh.plotting import figure, show, output_notebook\n",
    "from bokeh.models import HoverTool, NumeralTickFormatter\n",
    "output_notebook()"
   ]
  },
  {
   "cell_type": "code",
   "execution_count": 10,
   "metadata": {
    "collapsed": false
   },
   "outputs": [
    {
     "name": "stdout",
     "output_type": "stream",
     "text": [
      "CPU times: user 8.77 s, sys: 300 ms, total: 9.07 s\n",
      "Wall time: 9.07 s\n"
     ]
    }
   ],
   "source": [
    "csv_1 = '/shared/code/csce489-ds/project/work/nyt_data_1_clean.csv'\n",
    "%time nyt_1 = pd.read_csv(csv_1, \\\n",
    "                             skipinitialspace=True, \\\n",
    "                             skiprows = True, \\\n",
    "                             index_col=[1], \\\n",
    "                             names=['headlines'],\\\n",
    "                             parse_dates=True).dropna()"
   ]
  },
  {
   "cell_type": "code",
   "execution_count": 11,
   "metadata": {
    "collapsed": false
   },
   "outputs": [
    {
     "name": "stdout",
     "output_type": "stream",
     "text": [
      "CPU times: user 10.9 s, sys: 400 ms, total: 11.3 s\n",
      "Wall time: 11.3 s\n"
     ]
    }
   ],
   "source": [
    "csv_2 = '/shared/code/csce489-ds/project/work/nyt_data_2_clean.csv'\n",
    "%time nyt_2 = pd.read_csv(csv_2, \\\n",
    "                             skipinitialspace=True, \\\n",
    "                             skiprows = True, \\\n",
    "                             index_col=[0], \\\n",
    "                             names=['headlines'],\\\n",
    "                             parse_dates=True).dropna()"
   ]
  },
  {
   "cell_type": "code",
   "execution_count": 12,
   "metadata": {
    "collapsed": false
   },
   "outputs": [
    {
     "name": "stdout",
     "output_type": "stream",
     "text": [
      "CPU times: user 644 ms, sys: 20 ms, total: 664 ms\n",
      "Wall time: 660 ms\n"
     ]
    }
   ],
   "source": [
    "csv_3 = '/shared/code/csce489-ds/project/work/nyt_data_3_clean.csv'\n",
    "%time nyt_3 = pd.read_csv(csv_3, \\\n",
    "                             skipinitialspace=True, \\\n",
    "                             skiprows = True, \\\n",
    "                             index_col=[0], \\\n",
    "                             names=['headlines'],\\\n",
    "                             parse_dates=True).dropna()"
   ]
  },
  {
   "cell_type": "markdown",
   "metadata": {},
   "source": [
    "### Now sort the indexes in the DF:"
   ]
  },
  {
   "cell_type": "code",
   "execution_count": 13,
   "metadata": {
    "collapsed": false
   },
   "outputs": [
    {
     "name": "stdout",
     "output_type": "stream",
     "text": [
      "\n"
     ]
    }
   ],
   "source": [
    "nyt_1.sort_index()\n",
    "nyt_2.sort_index()\n",
    "nyt_3.sort_index()\n",
    "print "
   ]
  },
  {
   "cell_type": "markdown",
   "metadata": {},
   "source": [
    "### Now append the DataFrames together:"
   ]
  },
  {
   "cell_type": "code",
   "execution_count": 14,
   "metadata": {
    "collapsed": false
   },
   "outputs": [],
   "source": [
    "nyt_df = nyt_1.append(nyt_2)\n",
    "nyt_df = nyt_df.append(nyt_3)"
   ]
  },
  {
   "cell_type": "markdown",
   "metadata": {},
   "source": [
    "### Check that they appended correctly:"
   ]
  },
  {
   "cell_type": "code",
   "execution_count": 15,
   "metadata": {
    "collapsed": false
   },
   "outputs": [
    {
     "name": "stdout",
     "output_type": "stream",
     "text": [
      "1882-01-01 00:00:00\n",
      "2016-12-05 00:00:00\n",
      "length:  13431574\n"
     ]
    }
   ],
   "source": [
    "nyt_df.sort_index()\n",
    "nyt_df.reindex()\n",
    "\n",
    "print nyt_df.index.min()\n",
    "print nyt_df.index.max()\n",
    "print \"length: \", len(nyt_df)"
   ]
  },
  {
   "cell_type": "markdown",
   "metadata": {},
   "source": [
    "### Now we can do cool things like search by Datetimeindex!!"
   ]
  },
  {
   "cell_type": "code",
   "execution_count": 10,
   "metadata": {
    "collapsed": false
   },
   "outputs": [
    {
     "data": {
      "text/html": [
       "<div>\n",
       "<table border=\"1\" class=\"dataframe\">\n",
       "  <thead>\n",
       "    <tr style=\"text-align: right;\">\n",
       "      <th></th>\n",
       "      <th>headlines</th>\n",
       "    </tr>\n",
       "  </thead>\n",
       "  <tbody>\n",
       "    <tr>\n",
       "      <th>1903-01-01</th>\n",
       "      <td>WISH TO THREATEN CHINA.; Ministers Propose to ...</td>\n",
       "    </tr>\n",
       "    <tr>\n",
       "      <th>1903-01-01</th>\n",
       "      <td>TO MAKE TRANSIT PLANS REGARDLESS OF EXPENSE; C...</td>\n",
       "    </tr>\n",
       "    <tr>\n",
       "      <th>1903-01-01</th>\n",
       "      <td>CLERMONT SKATING RACES; Two Hotly Contested Ev...</td>\n",
       "    </tr>\n",
       "    <tr>\n",
       "      <th>1903-01-01</th>\n",
       "      <td>IN HONOR OF MASCAGNI.; Arrangements in Chicago...</td>\n",
       "    </tr>\n",
       "    <tr>\n",
       "      <th>1903-01-01</th>\n",
       "      <td>THE UNITED SERVICE.; Army.</td>\n",
       "    </tr>\n",
       "  </tbody>\n",
       "</table>\n",
       "</div>"
      ],
      "text/plain": [
       "                                                    headlines\n",
       "1903-01-01  WISH TO THREATEN CHINA.; Ministers Propose to ...\n",
       "1903-01-01  TO MAKE TRANSIT PLANS REGARDLESS OF EXPENSE; C...\n",
       "1903-01-01  CLERMONT SKATING RACES; Two Hotly Contested Ev...\n",
       "1903-01-01  IN HONOR OF MASCAGNI.; Arrangements in Chicago...\n",
       "1903-01-01                         THE UNITED SERVICE.; Army."
      ]
     },
     "execution_count": 10,
     "metadata": {},
     "output_type": "execute_result"
    }
   ],
   "source": [
    "# Search for the first 5 from 1903\n",
    "nyt_df['1903'].head()"
   ]
  },
  {
   "cell_type": "code",
   "execution_count": 11,
   "metadata": {
    "collapsed": false
   },
   "outputs": [
    {
     "data": {
      "text/html": [
       "<div>\n",
       "<table border=\"1\" class=\"dataframe\">\n",
       "  <thead>\n",
       "    <tr style=\"text-align: right;\">\n",
       "      <th></th>\n",
       "      <th>headlines</th>\n",
       "    </tr>\n",
       "  </thead>\n",
       "  <tbody>\n",
       "    <tr>\n",
       "      <th>1945-03-02</th>\n",
       "      <td>Americans See Germans Kill U.S. Colonel As He ...</td>\n",
       "    </tr>\n",
       "    <tr>\n",
       "      <th>1945-03-02</th>\n",
       "      <td>WRECK OF THE 'SPIRIT OF ST. LOUIS' IN OHIO</td>\n",
       "    </tr>\n",
       "    <tr>\n",
       "      <th>1945-03-02</th>\n",
       "      <td>MEXICO AND SAN FRANCISCO</td>\n",
       "    </tr>\n",
       "    <tr>\n",
       "      <th>1945-03-02</th>\n",
       "      <td>March Arrives Like Lamb Bringing a High of 50</td>\n",
       "    </tr>\n",
       "    <tr>\n",
       "      <th>1945-03-02</th>\n",
       "      <td>TANKS ENTER TRIER AFTER TRICKING FOE; AS THE A...</td>\n",
       "    </tr>\n",
       "  </tbody>\n",
       "</table>\n",
       "</div>"
      ],
      "text/plain": [
       "                                                    headlines\n",
       "1945-03-02  Americans See Germans Kill U.S. Colonel As He ...\n",
       "1945-03-02         WRECK OF THE 'SPIRIT OF ST. LOUIS' IN OHIO\n",
       "1945-03-02                           MEXICO AND SAN FRANCISCO\n",
       "1945-03-02      March Arrives Like Lamb Bringing a High of 50\n",
       "1945-03-02  TANKS ENTER TRIER AFTER TRICKING FOE; AS THE A..."
      ]
     },
     "execution_count": 11,
     "metadata": {},
     "output_type": "execute_result"
    }
   ],
   "source": [
    "# Search for the first 5 from March 1945 \n",
    "nyt_df['1945-03'].head()"
   ]
  },
  {
   "cell_type": "code",
   "execution_count": 12,
   "metadata": {
    "collapsed": false
   },
   "outputs": [
    {
     "data": {
      "text/html": [
       "<div>\n",
       "<table border=\"1\" class=\"dataframe\">\n",
       "  <thead>\n",
       "    <tr style=\"text-align: right;\">\n",
       "      <th></th>\n",
       "      <th>headlines</th>\n",
       "    </tr>\n",
       "  </thead>\n",
       "  <tbody>\n",
       "    <tr>\n",
       "      <th>1963-11-23</th>\n",
       "      <td>People Across U.S. Voice Grief and Revulsion M...</td>\n",
       "    </tr>\n",
       "    <tr>\n",
       "      <th>1963-11-23</th>\n",
       "      <td>LEFTIST ACCUSED</td>\n",
       "    </tr>\n",
       "    <tr>\n",
       "      <th>1963-11-23</th>\n",
       "      <td>Gov. Connally Shot; Mrs. Kennedy Safe Riding B...</td>\n",
       "    </tr>\n",
       "    <tr>\n",
       "      <th>1963-11-23</th>\n",
       "      <td>Why America Weeps</td>\n",
       "    </tr>\n",
       "    <tr>\n",
       "      <th>1963-11-23</th>\n",
       "      <td>Tributes Cite Loss to U. S. and World</td>\n",
       "    </tr>\n",
       "  </tbody>\n",
       "</table>\n",
       "</div>"
      ],
      "text/plain": [
       "                                                    headlines\n",
       "1963-11-23  People Across U.S. Voice Grief and Revulsion M...\n",
       "1963-11-23                                    LEFTIST ACCUSED\n",
       "1963-11-23  Gov. Connally Shot; Mrs. Kennedy Safe Riding B...\n",
       "1963-11-23                                  Why America Weeps\n",
       "1963-11-23              Tributes Cite Loss to U. S. and World"
      ]
     },
     "execution_count": 12,
     "metadata": {},
     "output_type": "execute_result"
    }
   ],
   "source": [
    "# Search for the first 10 from the day after JFK was assasinated on November 22, 1963\n",
    "nyt_df['1963-11-23'].head()"
   ]
  },
  {
   "cell_type": "markdown",
   "metadata": {
    "collapsed": true
   },
   "source": [
    "## Let's Start Analysis!!:"
   ]
  },
  {
   "cell_type": "code",
   "execution_count": 18,
   "metadata": {
    "collapsed": true
   },
   "outputs": [],
   "source": [
    "# Function to count how many times an instance occurs per year\n",
    "def count_occurences(df, dictionary):\n",
    "    for entry in df.index:\n",
    "        try:\n",
    "            dictionary[int(entry.year)] = dictionary[int(entry.year)] + 1\n",
    "        except ValueError:\n",
    "            continue    # bad value, skip\n",
    "    return dictionary"
   ]
  },
  {
   "cell_type": "markdown",
   "metadata": {},
   "source": [
    "## QUESTION: How many times does the new york times mention itself in its headlines?"
   ]
  },
  {
   "cell_type": "code",
   "execution_count": 20,
   "metadata": {
    "collapsed": false
   },
   "outputs": [
    {
     "data": {
      "text/html": [
       "<div>\n",
       "<table border=\"1\" class=\"dataframe\">\n",
       "  <thead>\n",
       "    <tr style=\"text-align: right;\">\n",
       "      <th></th>\n",
       "      <th>headlines</th>\n",
       "    </tr>\n",
       "  </thead>\n",
       "  <tbody>\n",
       "    <tr>\n",
       "      <th>1960-01-30</th>\n",
       "      <td>ALGIERS CIVILIANS EXPECT 'ANYTHING'; Stock Up ...</td>\n",
       "    </tr>\n",
       "    <tr>\n",
       "      <th>1960-02-07</th>\n",
       "      <td>SYMINGTON ASKS ACTION; Sees No Reason for U.S....</td>\n",
       "    </tr>\n",
       "    <tr>\n",
       "      <th>1960-02-13</th>\n",
       "      <td>Richard Ampeir 44 Press Aide Of Governor Rocke...</td>\n",
       "    </tr>\n",
       "    <tr>\n",
       "      <th>1960-02-14</th>\n",
       "      <td>A BOY'S WORLD THAT IS ANYTHING BUT 'COOL'</td>\n",
       "    </tr>\n",
       "    <tr>\n",
       "      <th>1960-02-24</th>\n",
       "      <td>LOUGHRAN DENIAL IS HEARD BY JURY; On Witness S...</td>\n",
       "    </tr>\n",
       "  </tbody>\n",
       "</table>\n",
       "</div>"
      ],
      "text/plain": [
       "                                                    headlines\n",
       "1960-01-30  ALGIERS CIVILIANS EXPECT 'ANYTHING'; Stock Up ...\n",
       "1960-02-07  SYMINGTON ASKS ACTION; Sees No Reason for U.S....\n",
       "1960-02-13  Richard Ampeir 44 Press Aide Of Governor Rocke...\n",
       "1960-02-14          A BOY'S WORLD THAT IS ANYTHING BUT 'COOL'\n",
       "1960-02-24  LOUGHRAN DENIAL IS HEARD BY JURY; On Witness S..."
      ]
     },
     "execution_count": 20,
     "metadata": {},
     "output_type": "execute_result"
    }
   ],
   "source": [
    "# Get the number of times NYT or New York Times is mentioned\n",
    "not_contains = lambda S: 'to the new york times' not in S.lower()\n",
    "nyt_mentioned = nyt_df[(nyt_df.headlines.apply(not_contains)) & ((nyt_df.headlines.str.contains('New York Times', case=False)) | (nyt_df.headlines.str.contains('nyt', case=False)))]\n",
    "\n",
    "nyt_mentioned.head()"
   ]
  },
  {
   "cell_type": "code",
   "execution_count": 21,
   "metadata": {
    "collapsed": false
   },
   "outputs": [],
   "source": [
    "# Generate a dictionary to hold the occurences per year and then load\n",
    "yrs_nyt_mentioned = {key:0 for key in range(1882, 2017)}\n",
    "for entry in nyt_mentioned.index:\n",
    "    try:\n",
    "        yrs_nyt_mentioned[int(entry.year)] = yrs_nyt_mentioned[int(entry.year)] + 1\n",
    "    except ValueError:\n",
    "        continue    # bad value, skip\n",
    "\n",
    "yrs_nyt_mentioned = count_occurences(nyt_mentioned, yrs_nyt_mentioned)"
   ]
  },
  {
   "cell_type": "code",
   "execution_count": 22,
   "metadata": {
    "collapsed": false
   },
   "outputs": [
    {
     "data": {
      "text/html": [
       "\n",
       "\n",
       "    <div class=\"bk-root\">\n",
       "        <div class=\"plotdiv\" id=\"45e9f05f-6fb4-4f37-bc4e-242d3eb9b607\"></div>\n",
       "    </div>\n",
       "<script type=\"text/javascript\">\n",
       "  \n",
       "  (function(global) {\n",
       "    function now() {\n",
       "      return new Date();\n",
       "    }\n",
       "  \n",
       "    var force = \"\";\n",
       "  \n",
       "    if (typeof (window._bokeh_onload_callbacks) === \"undefined\" || force !== \"\") {\n",
       "      window._bokeh_onload_callbacks = [];\n",
       "      window._bokeh_is_loading = undefined;\n",
       "    }\n",
       "  \n",
       "  \n",
       "    \n",
       "    if (typeof (window._bokeh_timeout) === \"undefined\" || force !== \"\") {\n",
       "      window._bokeh_timeout = Date.now() + 0;\n",
       "      window._bokeh_failed_load = false;\n",
       "    }\n",
       "  \n",
       "    var NB_LOAD_WARNING = {'data': {'text/html':\n",
       "       \"<div style='background-color: #fdd'>\\n\"+\n",
       "       \"<p>\\n\"+\n",
       "       \"BokehJS does not appear to have successfully loaded. If loading BokehJS from CDN, this \\n\"+\n",
       "       \"may be due to a slow or bad network connection. Possible fixes:\\n\"+\n",
       "       \"</p>\\n\"+\n",
       "       \"<ul>\\n\"+\n",
       "       \"<li>re-rerun `output_notebook()` to attempt to load from CDN again, or</li>\\n\"+\n",
       "       \"<li>use INLINE resources instead, as so:</li>\\n\"+\n",
       "       \"</ul>\\n\"+\n",
       "       \"<code>\\n\"+\n",
       "       \"from bokeh.resources import INLINE\\n\"+\n",
       "       \"output_notebook(resources=INLINE)\\n\"+\n",
       "       \"</code>\\n\"+\n",
       "       \"</div>\"}};\n",
       "  \n",
       "    function display_loaded() {\n",
       "      if (window.Bokeh !== undefined) {\n",
       "        Bokeh.$(\"#45e9f05f-6fb4-4f37-bc4e-242d3eb9b607\").text(\"BokehJS successfully loaded.\");\n",
       "      } else if (Date.now() < window._bokeh_timeout) {\n",
       "        setTimeout(display_loaded, 100)\n",
       "      }\n",
       "    }\n",
       "  \n",
       "    function run_callbacks() {\n",
       "      window._bokeh_onload_callbacks.forEach(function(callback) { callback() });\n",
       "      delete window._bokeh_onload_callbacks\n",
       "      console.info(\"Bokeh: all callbacks have finished\");\n",
       "    }\n",
       "  \n",
       "    function load_libs(js_urls, callback) {\n",
       "      window._bokeh_onload_callbacks.push(callback);\n",
       "      if (window._bokeh_is_loading > 0) {\n",
       "        console.log(\"Bokeh: BokehJS is being loaded, scheduling callback at\", now());\n",
       "        return null;\n",
       "      }\n",
       "      if (js_urls == null || js_urls.length === 0) {\n",
       "        run_callbacks();\n",
       "        return null;\n",
       "      }\n",
       "      console.log(\"Bokeh: BokehJS not loaded, scheduling load and callback at\", now());\n",
       "      window._bokeh_is_loading = js_urls.length;\n",
       "      for (var i = 0; i < js_urls.length; i++) {\n",
       "        var url = js_urls[i];\n",
       "        var s = document.createElement('script');\n",
       "        s.src = url;\n",
       "        s.async = false;\n",
       "        s.onreadystatechange = s.onload = function() {\n",
       "          window._bokeh_is_loading--;\n",
       "          if (window._bokeh_is_loading === 0) {\n",
       "            console.log(\"Bokeh: all BokehJS libraries loaded\");\n",
       "            run_callbacks()\n",
       "          }\n",
       "        };\n",
       "        s.onerror = function() {\n",
       "          console.warn(\"failed to load library \" + url);\n",
       "        };\n",
       "        console.log(\"Bokeh: injecting script tag for BokehJS library: \", url);\n",
       "        document.getElementsByTagName(\"head\")[0].appendChild(s);\n",
       "      }\n",
       "    };var element = document.getElementById(\"45e9f05f-6fb4-4f37-bc4e-242d3eb9b607\");\n",
       "    if (element == null) {\n",
       "      console.log(\"Bokeh: ERROR: autoload.js configured with elementid '45e9f05f-6fb4-4f37-bc4e-242d3eb9b607' but no matching script tag was found. \")\n",
       "      return false;\n",
       "    }\n",
       "  \n",
       "    var js_urls = [];\n",
       "  \n",
       "    var inline_js = [\n",
       "      function(Bokeh) {\n",
       "        Bokeh.$(function() {\n",
       "            var docs_json = {\"d3c097ca-d585-4e76-b396-98e3209c122a\":{\"roots\":{\"references\":[{\"attributes\":{\"callback\":null},\"id\":\"ec014444-f8c4-420c-89aa-f59920ca1248\",\"type\":\"DataRange1d\"},{\"attributes\":{},\"id\":\"92b65976-8b5b-408d-8f86-66dcec877f67\",\"type\":\"ToolEvents\"},{\"attributes\":{\"bottom_units\":\"screen\",\"fill_alpha\":{\"value\":0.5},\"fill_color\":{\"value\":\"lightgrey\"},\"left_units\":\"screen\",\"level\":\"overlay\",\"line_alpha\":{\"value\":1.0},\"line_color\":{\"value\":\"black\"},\"line_dash\":[4,4],\"line_width\":{\"value\":2},\"plot\":null,\"render_mode\":\"css\",\"right_units\":\"screen\",\"top_units\":\"screen\"},\"id\":\"697ed8c6-c5bb-45f6-941f-f9c160a2515a\",\"type\":\"BoxAnnotation\"},{\"attributes\":{\"plot\":{\"id\":\"22ec30a6-b916-4136-bde8-3509b222035a\",\"subtype\":\"Figure\",\"type\":\"Plot\"}},\"id\":\"c8ecccc8-6412-47bf-ae2a-3a57c3dddb35\",\"type\":\"ResetTool\"},{\"attributes\":{},\"id\":\"4abbc15a-2e20-4e53-9708-e84c34050ee9\",\"type\":\"BasicTicker\"},{\"attributes\":{\"line_alpha\":{\"value\":0.1},\"line_color\":{\"value\":\"#1f77b4\"},\"line_width\":{\"value\":3},\"x\":{\"field\":\"x\"},\"y\":{\"field\":\"y\"}},\"id\":\"4404e11e-55f4-4c15-ba9d-9cdc1bb03b1e\",\"type\":\"Line\"},{\"attributes\":{\"dimension\":1,\"grid_line_alpha\":{\"value\":0.9},\"grid_line_dash\":[6,4],\"plot\":{\"id\":\"22ec30a6-b916-4136-bde8-3509b222035a\",\"subtype\":\"Figure\",\"type\":\"Plot\"},\"ticker\":{\"id\":\"e163a94c-4a48-4c02-8447-cab131951cc3\",\"type\":\"BasicTicker\"}},\"id\":\"d00da06b-adb0-409e-9775-ae8236b1dbb8\",\"type\":\"Grid\"},{\"attributes\":{\"grid_line_color\":{\"value\":null},\"plot\":{\"id\":\"22ec30a6-b916-4136-bde8-3509b222035a\",\"subtype\":\"Figure\",\"type\":\"Plot\"},\"ticker\":{\"id\":\"4abbc15a-2e20-4e53-9708-e84c34050ee9\",\"type\":\"BasicTicker\"}},\"id\":\"67f2590d-313b-4d9d-b27a-4e1e568c5e42\",\"type\":\"Grid\"},{\"attributes\":{\"plot\":{\"id\":\"22ec30a6-b916-4136-bde8-3509b222035a\",\"subtype\":\"Figure\",\"type\":\"Plot\"}},\"id\":\"961a7c3e-5da4-40ed-a7f0-e6d3e0ede6e9\",\"type\":\"HelpTool\"},{\"attributes\":{},\"id\":\"886b053e-e51a-4664-8283-f52eeb5e6715\",\"type\":\"BasicTickFormatter\"},{\"attributes\":{\"below\":[{\"id\":\"10f0d762-e4c4-4dd3-836e-d953a9c6595b\",\"type\":\"LinearAxis\"}],\"left\":[{\"id\":\"1086449c-8fea-43df-bf80-67aba2c47b81\",\"type\":\"LinearAxis\"}],\"plot_height\":450,\"plot_width\":900,\"renderers\":[{\"id\":\"10f0d762-e4c4-4dd3-836e-d953a9c6595b\",\"type\":\"LinearAxis\"},{\"id\":\"67f2590d-313b-4d9d-b27a-4e1e568c5e42\",\"type\":\"Grid\"},{\"id\":\"1086449c-8fea-43df-bf80-67aba2c47b81\",\"type\":\"LinearAxis\"},{\"id\":\"d00da06b-adb0-409e-9775-ae8236b1dbb8\",\"type\":\"Grid\"},{\"id\":\"697ed8c6-c5bb-45f6-941f-f9c160a2515a\",\"type\":\"BoxAnnotation\"},{\"id\":\"c993df86-7bff-45c7-b58e-81d1ee2f880d\",\"type\":\"GlyphRenderer\"}],\"title\":{\"id\":\"227e6fb6-73cd-402b-80a3-699a06de9c47\",\"type\":\"Title\"},\"tool_events\":{\"id\":\"92b65976-8b5b-408d-8f86-66dcec877f67\",\"type\":\"ToolEvents\"},\"toolbar\":{\"id\":\"5e0bf69f-c84f-498c-aa14-aeeb03295646\",\"type\":\"Toolbar\"},\"x_range\":{\"id\":\"ec014444-f8c4-420c-89aa-f59920ca1248\",\"type\":\"DataRange1d\"},\"y_range\":{\"id\":\"071953e2-4bf6-4522-8903-e2ff852026b8\",\"type\":\"DataRange1d\"}},\"id\":\"22ec30a6-b916-4136-bde8-3509b222035a\",\"subtype\":\"Figure\",\"type\":\"Plot\"},{\"attributes\":{\"plot\":{\"id\":\"22ec30a6-b916-4136-bde8-3509b222035a\",\"subtype\":\"Figure\",\"type\":\"Plot\"}},\"id\":\"38d3127a-1ada-40c3-99dc-fc521e92fe56\",\"type\":\"WheelZoomTool\"},{\"attributes\":{\"plot\":{\"id\":\"22ec30a6-b916-4136-bde8-3509b222035a\",\"subtype\":\"Figure\",\"type\":\"Plot\"}},\"id\":\"3dce6c50-6c68-46e8-9916-eb9927c0ad9b\",\"type\":\"SaveTool\"},{\"attributes\":{\"plot\":null,\"text\":\"NYT Mentions itself in Article Title\"},\"id\":\"227e6fb6-73cd-402b-80a3-699a06de9c47\",\"type\":\"Title\"},{\"attributes\":{\"overlay\":{\"id\":\"697ed8c6-c5bb-45f6-941f-f9c160a2515a\",\"type\":\"BoxAnnotation\"},\"plot\":{\"id\":\"22ec30a6-b916-4136-bde8-3509b222035a\",\"subtype\":\"Figure\",\"type\":\"Plot\"}},\"id\":\"9b79ede3-3e44-4000-a2c2-f02a6c330fae\",\"type\":\"BoxZoomTool\"},{\"attributes\":{\"line_color\":{\"value\":\"#1f77b4\"},\"line_width\":{\"value\":3},\"x\":{\"field\":\"x\"},\"y\":{\"field\":\"y\"}},\"id\":\"5f91b3ec-4140-482f-bc6b-ffee68b77a0a\",\"type\":\"Line\"},{\"attributes\":{\"callback\":null,\"column_names\":[\"y\",\"x\"],\"data\":{\"x\":[1882,1883,1884,1885,1886,1887,1888,1889,1890,1891,1892,1893,1894,1895,1896,1897,1898,1899,1900,1901,1902,1903,1904,1905,1906,1907,1908,1909,1910,1911,1912,1913,1914,1915,1916,1917,1918,1919,1920,1921,1922,1923,1924,1925,1926,1927,1928,1929,1930,1931,1932,1933,1934,1935,1936,1937,1938,1939,1940,1941,1942,1943,1944,1945,1946,1947,1948,1949,1950,1951,1952,1953,1954,1955,1956,1957,1958,1959,1960,1961,1962,1963,1964,1965,1966,1967,1968,1969,1970,1971,1972,1973,1974,1975,1976,1977,1978,1979,1980,1981,1982,1983,1984,1985,1986,1987,1988,1989,1990,1991,1992,1993,1994,1995,1996,1997,1998,1999,2000,2001,2002,2003,2004,2005,2006,2007,2008,2009,2010,2011,2012,2013,2014,2015,2016],\"y\":[6,8,12,8,30,32,22,26,44,48,26,58,54,50,52,48,92,60,104,108,108,78,88,82,76,86,96,40,58,62,78,62,108,120,124,90,108,84,68,106,126,76,40,80,218,220,156,134,156,154,120,84,122,66,96,102,110,66,84,60,92,72,54,70,70,56,50,44,116,120,48,36,34,48,60,38,40,70,34,46,62,48,22,42,66,62,66,58,50,28,54,48,134,34,74,66,50,32,94,150,98,60,68,238,62,62,98,134,100,32,42,40,38,32,74,36,88,102,58,74,54,54,66,54,0,6,194,138,128,186,176,216,278,284,290]}},\"id\":\"fc4db2b3-a0bb-442f-89a4-584d950d5378\",\"type\":\"ColumnDataSource\"},{\"attributes\":{\"axis_label\":\"Number\",\"formatter\":{\"id\":\"404a5926-5f78-45e8-8839-a7bbe1ed9f67\",\"type\":\"BasicTickFormatter\"},\"plot\":{\"id\":\"22ec30a6-b916-4136-bde8-3509b222035a\",\"subtype\":\"Figure\",\"type\":\"Plot\"},\"ticker\":{\"id\":\"e163a94c-4a48-4c02-8447-cab131951cc3\",\"type\":\"BasicTicker\"}},\"id\":\"1086449c-8fea-43df-bf80-67aba2c47b81\",\"type\":\"LinearAxis\"},{\"attributes\":{\"data_source\":{\"id\":\"fc4db2b3-a0bb-442f-89a4-584d950d5378\",\"type\":\"ColumnDataSource\"},\"glyph\":{\"id\":\"5f91b3ec-4140-482f-bc6b-ffee68b77a0a\",\"type\":\"Line\"},\"hover_glyph\":null,\"nonselection_glyph\":{\"id\":\"4404e11e-55f4-4c15-ba9d-9cdc1bb03b1e\",\"type\":\"Line\"},\"selection_glyph\":null},\"id\":\"c993df86-7bff-45c7-b58e-81d1ee2f880d\",\"type\":\"GlyphRenderer\"},{\"attributes\":{},\"id\":\"404a5926-5f78-45e8-8839-a7bbe1ed9f67\",\"type\":\"BasicTickFormatter\"},{\"attributes\":{\"active_drag\":\"auto\",\"active_scroll\":\"auto\",\"active_tap\":\"auto\",\"tools\":[{\"id\":\"6dab956b-0300-475e-8801-afb7fb27f444\",\"type\":\"PanTool\"},{\"id\":\"38d3127a-1ada-40c3-99dc-fc521e92fe56\",\"type\":\"WheelZoomTool\"},{\"id\":\"9b79ede3-3e44-4000-a2c2-f02a6c330fae\",\"type\":\"BoxZoomTool\"},{\"id\":\"3dce6c50-6c68-46e8-9916-eb9927c0ad9b\",\"type\":\"SaveTool\"},{\"id\":\"c8ecccc8-6412-47bf-ae2a-3a57c3dddb35\",\"type\":\"ResetTool\"},{\"id\":\"961a7c3e-5da4-40ed-a7f0-e6d3e0ede6e9\",\"type\":\"HelpTool\"}]},\"id\":\"5e0bf69f-c84f-498c-aa14-aeeb03295646\",\"type\":\"Toolbar\"},{\"attributes\":{\"axis_label\":\"Year\",\"formatter\":{\"id\":\"886b053e-e51a-4664-8283-f52eeb5e6715\",\"type\":\"BasicTickFormatter\"},\"plot\":{\"id\":\"22ec30a6-b916-4136-bde8-3509b222035a\",\"subtype\":\"Figure\",\"type\":\"Plot\"},\"ticker\":{\"id\":\"4abbc15a-2e20-4e53-9708-e84c34050ee9\",\"type\":\"BasicTicker\"}},\"id\":\"10f0d762-e4c4-4dd3-836e-d953a9c6595b\",\"type\":\"LinearAxis\"},{\"attributes\":{\"callback\":null},\"id\":\"071953e2-4bf6-4522-8903-e2ff852026b8\",\"type\":\"DataRange1d\"},{\"attributes\":{\"plot\":{\"id\":\"22ec30a6-b916-4136-bde8-3509b222035a\",\"subtype\":\"Figure\",\"type\":\"Plot\"}},\"id\":\"6dab956b-0300-475e-8801-afb7fb27f444\",\"type\":\"PanTool\"},{\"attributes\":{},\"id\":\"e163a94c-4a48-4c02-8447-cab131951cc3\",\"type\":\"BasicTicker\"}],\"root_ids\":[\"22ec30a6-b916-4136-bde8-3509b222035a\"]},\"title\":\"Bokeh Application\",\"version\":\"0.12.3\"}};\n",
       "            var render_items = [{\"docid\":\"d3c097ca-d585-4e76-b396-98e3209c122a\",\"elementid\":\"45e9f05f-6fb4-4f37-bc4e-242d3eb9b607\",\"modelid\":\"22ec30a6-b916-4136-bde8-3509b222035a\"}];\n",
       "            \n",
       "            Bokeh.embed.embed_items(docs_json, render_items);\n",
       "        });\n",
       "      },\n",
       "      function(Bokeh) {\n",
       "      }\n",
       "    ];\n",
       "  \n",
       "    function run_inline_js() {\n",
       "      \n",
       "      if ((window.Bokeh !== undefined) || (force === \"1\")) {\n",
       "        for (var i = 0; i < inline_js.length; i++) {\n",
       "          inline_js[i](window.Bokeh);\n",
       "        }if (force === \"1\") {\n",
       "          display_loaded();\n",
       "        }} else if (Date.now() < window._bokeh_timeout) {\n",
       "        setTimeout(run_inline_js, 100);\n",
       "      } else if (!window._bokeh_failed_load) {\n",
       "        console.log(\"Bokeh: BokehJS failed to load within specified timeout.\");\n",
       "        window._bokeh_failed_load = true;\n",
       "      } else if (!force) {\n",
       "        var cell = $(\"#45e9f05f-6fb4-4f37-bc4e-242d3eb9b607\").parents('.cell').data().cell;\n",
       "        cell.output_area.append_execute_result(NB_LOAD_WARNING)\n",
       "      }\n",
       "  \n",
       "    }\n",
       "  \n",
       "    if (window._bokeh_is_loading === 0) {\n",
       "      console.log(\"Bokeh: BokehJS loaded, going straight to plotting\");\n",
       "      run_inline_js();\n",
       "    } else {\n",
       "      load_libs(js_urls, function() {\n",
       "        console.log(\"Bokeh: BokehJS plotting callback run at\", now());\n",
       "        run_inline_js();\n",
       "      });\n",
       "    }\n",
       "  }(this));\n",
       "</script>"
      ]
     },
     "metadata": {},
     "output_type": "display_data"
    }
   ],
   "source": [
    "# Plot using bokeh\n",
    "x = list(yrs_nyt_mentioned.keys())\n",
    "y = list(yrs_nyt_mentioned.values())\n",
    "\n",
    "\n",
    "p = figure(plot_width=900, plot_height=450)\n",
    "p.line(x, y, line_width=3)\n",
    "\n",
    "p.title.text='NYT Mentions itself in Article Title'\n",
    "p.title.text_font='helvetica'\n",
    "\n",
    "p.xgrid.grid_line_color = None\n",
    "p.ygrid.grid_line_alpha = 0.9\n",
    "p.ygrid.grid_line_dash = [6, 4]\n",
    "\n",
    "p.xaxis.axis_label = \"Year\"\n",
    "p.yaxis.axis_label = \"Number\"\n",
    "\n",
    "show(p)"
   ]
  },
  {
   "cell_type": "code",
   "execution_count": 7,
   "metadata": {
    "collapsed": false
   },
   "outputs": [
    {
     "data": {
      "image/png": "[encoded data removed]",
      "text/plain": [
       "<IPython.core.display.Image object>"
      ]
     },
     "execution_count": 7,
     "metadata": {},
     "output_type": "execute_result"
    }
   ],
   "source": [
    "from IPython.display import Image\n",
    "Image(\"./images/nyt-mentions-itself.png\")"
   ]
  },
  {
   "cell_type": "code",
   "execution_count": 16,
   "metadata": {
    "collapsed": false
   },
   "outputs": [
    {
     "data": {
      "text/html": [
       "<div>\n",
       "<table border=\"1\" class=\"dataframe\">\n",
       "  <thead>\n",
       "    <tr style=\"text-align: right;\">\n",
       "      <th></th>\n",
       "      <th>headlines</th>\n",
       "    </tr>\n",
       "  </thead>\n",
       "  <tbody>\n",
       "    <tr>\n",
       "      <th>1960-01-01</th>\n",
       "      <td>SOVIET EDITOR CITES MARK TWAIN ARTICLE</td>\n",
       "    </tr>\n",
       "    <tr>\n",
       "      <th>1960-01-01</th>\n",
       "      <td>PRIEST IS ACCUSED IN FUND SHORTAGE</td>\n",
       "    </tr>\n",
       "    <tr>\n",
       "      <th>1960-01-01</th>\n",
       "      <td>BIG GAINS POSTED BY WESTERN UNION</td>\n",
       "    </tr>\n",
       "    <tr>\n",
       "      <th>1960-01-01</th>\n",
       "      <td>U.S. STORE TRADE UP 20% LAST WEEK; Sharp Rise ...</td>\n",
       "    </tr>\n",
       "    <tr>\n",
       "      <th>1960-01-01</th>\n",
       "      <td>$99306 FINE IS SET FOR EX-LAWMAKER</td>\n",
       "    </tr>\n",
       "  </tbody>\n",
       "</table>\n",
       "</div>"
      ],
      "text/plain": [
       "                                                    headlines\n",
       "1960-01-01             SOVIET EDITOR CITES MARK TWAIN ARTICLE\n",
       "1960-01-01                 PRIEST IS ACCUSED IN FUND SHORTAGE\n",
       "1960-01-01                  BIG GAINS POSTED BY WESTERN UNION\n",
       "1960-01-01  U.S. STORE TRADE UP 20% LAST WEEK; Sharp Rise ...\n",
       "1960-01-01                 $99306 FINE IS SET FOR EX-LAWMAKER"
      ]
     },
     "execution_count": 16,
     "metadata": {},
     "output_type": "execute_result"
    }
   ],
   "source": [
    "# get all-caps headlines:\n",
    "contains_caps = lambda r: np.any([w.isupper() for w in r.split(' ')])\n",
    "selected_rows = nyt_df.loc[nyt_df['headlines'].apply(contains_caps)]\n",
    "# print(selected_rows.shape)\n",
    "selected_rows.head()"
   ]
  },
  {
   "cell_type": "code",
   "execution_count": 19,
   "metadata": {
    "collapsed": false
   },
   "outputs": [],
   "source": [
    "yrs_all_caps = {key:0 for key in range(1882, 2017)}\n",
    "yrs_all_caps = count_occurences(selected_rows, yrs_all_caps)"
   ]
  },
  {
   "cell_type": "code",
   "execution_count": 21,
   "metadata": {
    "collapsed": false
   },
   "outputs": [],
   "source": [
    "# yrs_all_caps\n",
    "# Plot using bokeh\n",
    "x = list(yrs_all_caps.keys())\n",
    "y = list(yrs_all_caps.values())\n",
    "\n",
    "p = figure(plot_width=900, plot_height=450)\n",
    "p.line(x, y, line_width=3)\n",
    "\n",
    "p.title.text='Number of Articles Containing All-Capital Lettered Words'\n",
    "p.title.text_font='helvetica'\n",
    "\n",
    "p.xgrid.grid_line_color = None\n",
    "p.ygrid.grid_line_alpha = 0.9\n",
    "p.ygrid.grid_line_dash = [6, 4]\n",
    "\n",
    "p.xaxis.axis_label = \"Year\"\n",
    "p.yaxis.axis_label = \"Number\"\n",
    "p.yaxis[0].formatter = NumeralTickFormatter(format=\"0,0\")\n",
    "\n",
    "show(p)"
   ]
  },
  {
   "cell_type": "code",
   "execution_count": 8,
   "metadata": {
    "collapsed": false
   },
   "outputs": [
    {
     "data": {
      "image/png": "[encoded data removed]",
      "text/plain": [
       "<IPython.core.display.Image object>"
      ]
     },
     "execution_count": 8,
     "metadata": {},
     "output_type": "execute_result"
    }
   ],
   "source": [
    "from IPython.display import Image\n",
    "Image(\"./images/all-caps-headlines.png\")"
   ]
  },
  {
   "cell_type": "markdown",
   "metadata": {},
   "source": [
    "# Wait, wasn't something happening during this spike?"
   ]
  },
  {
   "cell_type": "code",
   "execution_count": 23,
   "metadata": {
    "collapsed": false
   },
   "outputs": [],
   "source": [
    "# yrs_all_caps\n",
    "# Plot using bokeh\n",
    "x = list(yrs_all_caps.keys())\n",
    "y = list(yrs_all_caps.values())\n",
    "\n",
    "p = figure(plot_width=900, plot_height=450)\n",
    "p.line(x, y, line_width=3)\n",
    "\n",
    "p.title.text='Number of Articles Containing All-Capital Lettered Words'\n",
    "p.title.text_font='helvetica'\n",
    "\n",
    "p.xgrid.grid_line_color = None\n",
    "p.ygrid.grid_line_alpha = 0.9\n",
    "p.ygrid.grid_line_dash = [6, 4]\n",
    "\n",
    "p.patch([1939, 1939, 1945,1945], [0,130000,130000,0], alpha=0.1, line_width=2)\n",
    "\n",
    "p.xaxis.axis_label = \"Year\"\n",
    "p.yaxis.axis_label = \"Number\"\n",
    "p.yaxis[0].formatter = NumeralTickFormatter(format=\"0,0\")\n",
    "\n",
    "show(p)"
   ]
  },
  {
   "cell_type": "code",
   "execution_count": 24,
   "metadata": {
    "collapsed": false
   },
   "outputs": [
    {
     "data": {
      "image/png": "[encoded data removed]",
      "text/plain": [
       "<IPython.core.display.Image object>"
      ]
     },
     "execution_count": 24,
     "metadata": {},
     "output_type": "execute_result"
    }
   ],
   "source": [
    "from IPython.display import Image\n",
    "Image(\"./images/all-caps-headlines-withWWII-shading.png\")"
   ]
  },
  {
   "cell_type": "markdown",
   "metadata": {},
   "source": [
    "## Looks like a swift rise in capital headlines after World War II..."
   ]
  },
  {
   "cell_type": "markdown",
   "metadata": {},
   "source": [
    "### Now find what percentage of each year's headlines were all caps!\n",
    "#### This one takes FOREVER to compute... DON'T RUN THIS, THE DATA WAS WRITTEN TO CSV, NO NEED TO RERUN! DON'T DO IT!"
   ]
  },
  {
   "cell_type": "code",
   "execution_count": 95,
   "metadata": {
    "collapsed": false
   },
   "outputs": [],
   "source": [
    "from collections import defaultdict\n",
    "# Uncomment to re-run, it will take approx 20-30 mins\n",
    "# # Calculate the percentage of capitol words for each entry\n",
    "# all_cap_percent = defaultdict(list) \n",
    "# # Get each entry with caps\n",
    "# for index, headline in selected_rows.iterrows():\n",
    "#     cap_words = 0.0\n",
    "#     # split the entry by space\n",
    "#     words = headline[0].split()\n",
    "#     # iterate through the word list and find \n",
    "#     for word in words:\n",
    "#         if word.isupper():\n",
    "#             cap_words = cap_words + 1\n",
    "#     all_cap_percent[index.year].append(cap_words/len(words) * 100)"
   ]
  },
  {
   "cell_type": "code",
   "execution_count": 101,
   "metadata": {
    "collapsed": false
   },
   "outputs": [],
   "source": [
    "# # Average the capitol percentage values\n",
    "# for entry, values in all_cap_percent.iteritems():\n",
    "#     all_cap_percent[entry] = sum(values)/len(values)\n",
    "# all_cap_percent.items()"
   ]
  },
  {
   "cell_type": "code",
   "execution_count": 103,
   "metadata": {
    "collapsed": false
   },
   "outputs": [],
   "source": [
    "# That took a while, let's write the results to a csv file so we don't have to compute it again\n",
    "# out_file = '/shared/code/csce489-ds/project/work/percent_capital.csv'\n",
    "# with open(out_file, 'wb') as f:\n",
    "#     w = csv.writer(f)\n",
    "#     w.writerows(all_cap_percent.items())"
   ]
  },
  {
   "cell_type": "code",
   "execution_count": 27,
   "metadata": {
    "collapsed": false
   },
   "outputs": [],
   "source": [
    "# Read in the CSV date from previous calculation, Uncomment previous if re-running calc\n",
    "in_file = '/shared/code/csce489-ds/project/repo-correct/489-project/data/percent_capital.csv'\n",
    "with open(in_file, 'r') as f:\n",
    "    read = csv.reader(f)\n",
    "    perc_cap = {int(rows[0]):float(rows[1]) for rows in read}"
   ]
  },
  {
   "cell_type": "code",
   "execution_count": 30,
   "metadata": {
    "collapsed": false
   },
   "outputs": [],
   "source": [
    "x = list(perc_cap.keys())\n",
    "y = list(perc_cap.values())\n",
    "\n",
    "p = figure(plot_width=900, plot_height=450)\n",
    "p.line(x, y, line_width=3)\n",
    "\n",
    "p.title.text='Percentage of Articles with Entire Title Capitalized'\n",
    "p.title.text_font='helvetica'\n",
    "\n",
    "p.xgrid.grid_line_color = None\n",
    "p.ygrid.grid_line_alpha = 0.9\n",
    "p.ygrid.grid_line_dash = [6, 4]\n",
    "\n",
    "# p.patch([1939, 1939, 1945,1945], [0,130000,130000,0], alpha=0.1, line_width=2)\n",
    "\n",
    "p.xaxis.axis_label = \"Year\"\n",
    "p.yaxis.axis_label = \"Percent\"\n",
    "# p.yaxis[0].formatter = NumeralTickFormatter(format=\"%\")\n",
    "\n",
    "show(p)"
   ]
  },
  {
   "cell_type": "code",
   "execution_count": 29,
   "metadata": {
    "collapsed": false
   },
   "outputs": [
    {
     "data": {
      "image/png": "[encoded data removed]",
      "text/plain": [
       "<IPython.core.display.Image object>"
      ]
     },
     "execution_count": 29,
     "metadata": {},
     "output_type": "execute_result"
    }
   ],
   "source": [
    "from IPython.display import Image\n",
    "Image(\"./images/percent-all-caps.png\")"
   ]
  },
  {
   "cell_type": "markdown",
   "metadata": {
    "collapsed": true
   },
   "source": [
    "# Calculate Flesch Readability Score\n"
   ]
  },
  {
   "cell_type": "code",
   "execution_count": 77,
   "metadata": {
    "collapsed": false
   },
   "outputs": [],
   "source": [
    "# Flesch Reading ease -- Takes an enormous amount of time to run, uncomment if you dare...\n",
    "\n",
    "# from collections import defaultdict\n",
    "# from textstat.textstat import textstat\n",
    "# count = 0\n",
    "# dictionary = defaultdict(list)\n",
    "# for index, headline in nyt_df.iterrows():\n",
    "#     # print date #this is the title heading of each data point\n",
    "#     count = count + 1\n",
    "# #     if count > 1000000: #use this to generate plot for intial 1000 or 5000 data points\n",
    "# #         break\n",
    "#     date = index.year\n",
    "#     try:\n",
    "#         if len(headline[0]) > 0:\n",
    "#             dictionary[date].append(textstat.flesch_reading_ease(headline[0])) #appending all redability value for the same exisiting date\n",
    "#     except:\n",
    "#         continue"
   ]
  },
  {
   "cell_type": "code",
   "execution_count": 73,
   "metadata": {
    "collapsed": true
   },
   "outputs": [],
   "source": [
    "for entry, values in dictionary.iteritems():\n",
    "    dictionary[entry] = sum(values)/len(values)\n"
   ]
  },
  {
   "cell_type": "code",
   "execution_count": 76,
   "metadata": {
    "collapsed": false
   },
   "outputs": [],
   "source": [
    "# That took a while, let's write the results to a csv file so we don't have to compute it again\n",
    "# out_file = './data/flesch_score.csv'\n",
    "# with open(out_file, 'wb') as f:\n",
    "#     w = csv.writer(f)\n",
    "#     w.writerows(dictionary.items())"
   ]
  },
  {
   "cell_type": "code",
   "execution_count": 12,
   "metadata": {
    "collapsed": true
   },
   "outputs": [],
   "source": [
    "# Read in the CSV date from previous calculation, Uncomment previous if re-running calc\n",
    "in_file = './data/flesch_score.csv'\n",
    "with open(in_file, 'r') as f:\n",
    "    read = csv.reader(f)\n",
    "    readability_score = {int(rows[0]):float(rows[1]) for rows in read}"
   ]
  },
  {
   "cell_type": "code",
   "execution_count": 28,
   "metadata": {
    "collapsed": false
   },
   "outputs": [
    {
     "data": {
      "text/html": [
       "\n",
       "\n",
       "    <div class=\"bk-root\">\n",
       "        <div class=\"plotdiv\" id=\"e18411b9-8654-416b-968c-3985dcdb5532\"></div>\n",
       "    </div>\n",
       "<script type=\"text/javascript\">\n",
       "  \n",
       "  (function(global) {\n",
       "    function now() {\n",
       "      return new Date();\n",
       "    }\n",
       "  \n",
       "    var force = \"\";\n",
       "  \n",
       "    if (typeof (window._bokeh_onload_callbacks) === \"undefined\" || force !== \"\") {\n",
       "      window._bokeh_onload_callbacks = [];\n",
       "      window._bokeh_is_loading = undefined;\n",
       "    }\n",
       "  \n",
       "  \n",
       "    \n",
       "    if (typeof (window._bokeh_timeout) === \"undefined\" || force !== \"\") {\n",
       "      window._bokeh_timeout = Date.now() + 0;\n",
       "      window._bokeh_failed_load = false;\n",
       "    }\n",
       "  \n",
       "    var NB_LOAD_WARNING = {'data': {'text/html':\n",
       "       \"<div style='background-color: #fdd'>\\n\"+\n",
       "       \"<p>\\n\"+\n",
       "       \"BokehJS does not appear to have successfully loaded. If loading BokehJS from CDN, this \\n\"+\n",
       "       \"may be due to a slow or bad network connection. Possible fixes:\\n\"+\n",
       "       \"</p>\\n\"+\n",
       "       \"<ul>\\n\"+\n",
       "       \"<li>re-rerun `output_notebook()` to attempt to load from CDN again, or</li>\\n\"+\n",
       "       \"<li>use INLINE resources instead, as so:</li>\\n\"+\n",
       "       \"</ul>\\n\"+\n",
       "       \"<code>\\n\"+\n",
       "       \"from bokeh.resources import INLINE\\n\"+\n",
       "       \"output_notebook(resources=INLINE)\\n\"+\n",
       "       \"</code>\\n\"+\n",
       "       \"</div>\"}};\n",
       "  \n",
       "    function display_loaded() {\n",
       "      if (window.Bokeh !== undefined) {\n",
       "        Bokeh.$(\"#e18411b9-8654-416b-968c-3985dcdb5532\").text(\"BokehJS successfully loaded.\");\n",
       "      } else if (Date.now() < window._bokeh_timeout) {\n",
       "        setTimeout(display_loaded, 100)\n",
       "      }\n",
       "    }\n",
       "  \n",
       "    function run_callbacks() {\n",
       "      window._bokeh_onload_callbacks.forEach(function(callback) { callback() });\n",
       "      delete window._bokeh_onload_callbacks\n",
       "      console.info(\"Bokeh: all callbacks have finished\");\n",
       "    }\n",
       "  \n",
       "    function load_libs(js_urls, callback) {\n",
       "      window._bokeh_onload_callbacks.push(callback);\n",
       "      if (window._bokeh_is_loading > 0) {\n",
       "        console.log(\"Bokeh: BokehJS is being loaded, scheduling callback at\", now());\n",
       "        return null;\n",
       "      }\n",
       "      if (js_urls == null || js_urls.length === 0) {\n",
       "        run_callbacks();\n",
       "        return null;\n",
       "      }\n",
       "      console.log(\"Bokeh: BokehJS not loaded, scheduling load and callback at\", now());\n",
       "      window._bokeh_is_loading = js_urls.length;\n",
       "      for (var i = 0; i < js_urls.length; i++) {\n",
       "        var url = js_urls[i];\n",
       "        var s = document.createElement('script');\n",
       "        s.src = url;\n",
       "        s.async = false;\n",
       "        s.onreadystatechange = s.onload = function() {\n",
       "          window._bokeh_is_loading--;\n",
       "          if (window._bokeh_is_loading === 0) {\n",
       "            console.log(\"Bokeh: all BokehJS libraries loaded\");\n",
       "            run_callbacks()\n",
       "          }\n",
       "        };\n",
       "        s.onerror = function() {\n",
       "          console.warn(\"failed to load library \" + url);\n",
       "        };\n",
       "        console.log(\"Bokeh: injecting script tag for BokehJS library: \", url);\n",
       "        document.getElementsByTagName(\"head\")[0].appendChild(s);\n",
       "      }\n",
       "    };var element = document.getElementById(\"e18411b9-8654-416b-968c-3985dcdb5532\");\n",
       "    if (element == null) {\n",
       "      console.log(\"Bokeh: ERROR: autoload.js configured with elementid 'e18411b9-8654-416b-968c-3985dcdb5532' but no matching script tag was found. \")\n",
       "      return false;\n",
       "    }\n",
       "  \n",
       "    var js_urls = [];\n",
       "  \n",
       "    var inline_js = [\n",
       "      function(Bokeh) {\n",
       "        Bokeh.$(function() {\n",
       "            var docs_json = {\"5affbe6f-51f4-4af5-879e-503e13cf77b7\":{\"roots\":{\"references\":[{\"attributes\":{\"dimension\":1,\"grid_line_alpha\":{\"value\":0.9},\"grid_line_dash\":[6,4],\"plot\":{\"id\":\"195dca05-ec06-4f64-aea6-5659aec4b638\",\"subtype\":\"Figure\",\"type\":\"Plot\"},\"ticker\":{\"id\":\"2e7bc1e5-446c-4ddc-87b8-f2cf01fe24c2\",\"type\":\"BasicTicker\"}},\"id\":\"f029af5b-e56a-4afa-a09d-4f18f6dc82cc\",\"type\":\"Grid\"},{\"attributes\":{},\"id\":\"78586478-78cd-4edd-bca1-e9f4c6f43246\",\"type\":\"NumeralTickFormatter\"},{\"attributes\":{\"plot\":{\"id\":\"195dca05-ec06-4f64-aea6-5659aec4b638\",\"subtype\":\"Figure\",\"type\":\"Plot\"}},\"id\":\"9aa480d3-9b22-48f4-ac2a-d8f5e7f8d4df\",\"type\":\"SaveTool\"},{\"attributes\":{\"below\":[{\"id\":\"8dbb8e0a-6c8f-4691-a25d-dc6e4b157e61\",\"type\":\"LinearAxis\"}],\"left\":[{\"id\":\"5ab34c48-5d1f-4db6-8ab2-1ac98c64412d\",\"type\":\"LinearAxis\"}],\"plot_height\":450,\"plot_width\":900,\"renderers\":[{\"id\":\"8dbb8e0a-6c8f-4691-a25d-dc6e4b157e61\",\"type\":\"LinearAxis\"},{\"id\":\"24d95445-0241-400d-956d-e2ae34d3fb96\",\"type\":\"Grid\"},{\"id\":\"5ab34c48-5d1f-4db6-8ab2-1ac98c64412d\",\"type\":\"LinearAxis\"},{\"id\":\"f029af5b-e56a-4afa-a09d-4f18f6dc82cc\",\"type\":\"Grid\"},{\"id\":\"b58fcd02-a147-4a5d-bff8-fc13d8421a02\",\"type\":\"BoxAnnotation\"},{\"id\":\"e0483ee3-981c-48e0-9426-0aaeece3a4e1\",\"type\":\"GlyphRenderer\"}],\"title\":{\"id\":\"2cd03dd8-0e42-40a9-b8b2-8274417acf5e\",\"type\":\"Title\"},\"tool_events\":{\"id\":\"65bcad5b-12ea-464f-88e0-7bc67e4c525f\",\"type\":\"ToolEvents\"},\"toolbar\":{\"id\":\"f4537e53-429f-4b82-82b6-feb1eef3392a\",\"type\":\"Toolbar\"},\"x_range\":{\"id\":\"126681f1-bd24-40d9-8f20-644b724917c7\",\"type\":\"DataRange1d\"},\"y_range\":{\"id\":\"1eb0dc84-466c-49ba-88b1-f0c391e1264c\",\"type\":\"DataRange1d\"}},\"id\":\"195dca05-ec06-4f64-aea6-5659aec4b638\",\"subtype\":\"Figure\",\"type\":\"Plot\"},{\"attributes\":{},\"id\":\"65bcad5b-12ea-464f-88e0-7bc67e4c525f\",\"type\":\"ToolEvents\"},{\"attributes\":{\"plot\":{\"id\":\"195dca05-ec06-4f64-aea6-5659aec4b638\",\"subtype\":\"Figure\",\"type\":\"Plot\"}},\"id\":\"c6b95d34-4c13-423f-8f52-c65824932161\",\"type\":\"ResetTool\"},{\"attributes\":{\"callback\":null},\"id\":\"126681f1-bd24-40d9-8f20-644b724917c7\",\"type\":\"DataRange1d\"},{\"attributes\":{\"plot\":{\"id\":\"195dca05-ec06-4f64-aea6-5659aec4b638\",\"subtype\":\"Figure\",\"type\":\"Plot\"}},\"id\":\"97418694-56c3-4ec2-86b2-f339fb1efd7f\",\"type\":\"PanTool\"},{\"attributes\":{},\"id\":\"5a6b6757-1ebf-4eb2-842d-30e82ad044b5\",\"type\":\"BasicTicker\"},{\"attributes\":{\"active_drag\":\"auto\",\"active_scroll\":\"auto\",\"active_tap\":\"auto\",\"tools\":[{\"id\":\"97418694-56c3-4ec2-86b2-f339fb1efd7f\",\"type\":\"PanTool\"},{\"id\":\"39232d63-331a-4b23-8817-af25edd19aab\",\"type\":\"WheelZoomTool\"},{\"id\":\"460c624e-997d-4010-9ff7-85f7618ec7c9\",\"type\":\"BoxZoomTool\"},{\"id\":\"9aa480d3-9b22-48f4-ac2a-d8f5e7f8d4df\",\"type\":\"SaveTool\"},{\"id\":\"c6b95d34-4c13-423f-8f52-c65824932161\",\"type\":\"ResetTool\"},{\"id\":\"032a47e4-d9fe-4334-9e40-cd2b480d2b79\",\"type\":\"HelpTool\"}]},\"id\":\"f4537e53-429f-4b82-82b6-feb1eef3392a\",\"type\":\"Toolbar\"},{\"attributes\":{\"axis_label\":\"Year\",\"formatter\":{\"id\":\"21e89c88-c905-4cdb-9c79-d0f8c957915d\",\"type\":\"BasicTickFormatter\"},\"plot\":{\"id\":\"195dca05-ec06-4f64-aea6-5659aec4b638\",\"subtype\":\"Figure\",\"type\":\"Plot\"},\"ticker\":{\"id\":\"5a6b6757-1ebf-4eb2-842d-30e82ad044b5\",\"type\":\"BasicTicker\"}},\"id\":\"8dbb8e0a-6c8f-4691-a25d-dc6e4b157e61\",\"type\":\"LinearAxis\"},{\"attributes\":{\"overlay\":{\"id\":\"b58fcd02-a147-4a5d-bff8-fc13d8421a02\",\"type\":\"BoxAnnotation\"},\"plot\":{\"id\":\"195dca05-ec06-4f64-aea6-5659aec4b638\",\"subtype\":\"Figure\",\"type\":\"Plot\"}},\"id\":\"460c624e-997d-4010-9ff7-85f7618ec7c9\",\"type\":\"BoxZoomTool\"},{\"attributes\":{\"bottom_units\":\"screen\",\"fill_alpha\":{\"value\":0.5},\"fill_color\":{\"value\":\"lightgrey\"},\"left_units\":\"screen\",\"level\":\"overlay\",\"line_alpha\":{\"value\":1.0},\"line_color\":{\"value\":\"black\"},\"line_dash\":[4,4],\"line_width\":{\"value\":2},\"plot\":null,\"render_mode\":\"css\",\"right_units\":\"screen\",\"top_units\":\"screen\"},\"id\":\"b58fcd02-a147-4a5d-bff8-fc13d8421a02\",\"type\":\"BoxAnnotation\"},{\"attributes\":{\"line_alpha\":{\"value\":0.1},\"line_color\":{\"value\":\"#1f77b4\"},\"line_width\":{\"value\":3},\"x\":{\"field\":\"x\"},\"y\":{\"field\":\"y\"}},\"id\":\"9c723809-571e-4861-929f-8e793978dd77\",\"type\":\"Line\"},{\"attributes\":{},\"id\":\"21e89c88-c905-4cdb-9c79-d0f8c957915d\",\"type\":\"BasicTickFormatter\"},{\"attributes\":{\"grid_line_color\":{\"value\":null},\"plot\":{\"id\":\"195dca05-ec06-4f64-aea6-5659aec4b638\",\"subtype\":\"Figure\",\"type\":\"Plot\"},\"ticker\":{\"id\":\"5a6b6757-1ebf-4eb2-842d-30e82ad044b5\",\"type\":\"BasicTicker\"}},\"id\":\"24d95445-0241-400d-956d-e2ae34d3fb96\",\"type\":\"Grid\"},{\"attributes\":{\"axis_label\":\"Score\",\"formatter\":{\"id\":\"78586478-78cd-4edd-bca1-e9f4c6f43246\",\"type\":\"NumeralTickFormatter\"},\"plot\":{\"id\":\"195dca05-ec06-4f64-aea6-5659aec4b638\",\"subtype\":\"Figure\",\"type\":\"Plot\"},\"ticker\":{\"id\":\"2e7bc1e5-446c-4ddc-87b8-f2cf01fe24c2\",\"type\":\"BasicTicker\"}},\"id\":\"5ab34c48-5d1f-4db6-8ab2-1ac98c64412d\",\"type\":\"LinearAxis\"},{\"attributes\":{\"plot\":{\"id\":\"195dca05-ec06-4f64-aea6-5659aec4b638\",\"subtype\":\"Figure\",\"type\":\"Plot\"}},\"id\":\"032a47e4-d9fe-4334-9e40-cd2b480d2b79\",\"type\":\"HelpTool\"},{\"attributes\":{\"plot\":null,\"text\":\"Flesch Reading Ease per Year\"},\"id\":\"2cd03dd8-0e42-40a9-b8b2-8274417acf5e\",\"type\":\"Title\"},{\"attributes\":{},\"id\":\"2e7bc1e5-446c-4ddc-87b8-f2cf01fe24c2\",\"type\":\"BasicTicker\"},{\"attributes\":{\"line_color\":{\"value\":\"#1f77b4\"},\"line_width\":{\"value\":3},\"x\":{\"field\":\"x\"},\"y\":{\"field\":\"y\"}},\"id\":\"b4df6659-82ed-40b9-b58c-7d41e80069a0\",\"type\":\"Line\"},{\"attributes\":{\"plot\":{\"id\":\"195dca05-ec06-4f64-aea6-5659aec4b638\",\"subtype\":\"Figure\",\"type\":\"Plot\"}},\"id\":\"39232d63-331a-4b23-8817-af25edd19aab\",\"type\":\"WheelZoomTool\"},{\"attributes\":{\"callback\":null},\"id\":\"1eb0dc84-466c-49ba-88b1-f0c391e1264c\",\"type\":\"DataRange1d\"},{\"attributes\":{\"data_source\":{\"id\":\"1e715de4-5dff-42c5-bb31-8ae8db203d98\",\"type\":\"ColumnDataSource\"},\"glyph\":{\"id\":\"b4df6659-82ed-40b9-b58c-7d41e80069a0\",\"type\":\"Line\"},\"hover_glyph\":null,\"nonselection_glyph\":{\"id\":\"9c723809-571e-4861-929f-8e793978dd77\",\"type\":\"Line\"},\"selection_glyph\":null},\"id\":\"e0483ee3-981c-48e0-9426-0aaeece3a4e1\",\"type\":\"GlyphRenderer\"},{\"attributes\":{\"callback\":null,\"column_names\":[\"y\",\"x\"],\"data\":{\"x\":[1882,1883,1884,1885,1886,1887,1888,1889,1890,1891,1892,1893,1894,1895,1896,1897,1898,1899,1900,1901,1902,1903,1904,1905,1906,1907,1908,1909,1910,1911,1912,1913,1914,1915,1916,1917,1918,1919,1920,1921,1922,1923,1924,1925,1926,1927,1928,1929,1930,1931,1932,1933,1934,1935,1936,1937,1938,1939,1940,1941,1942,1943,1944,1945,1946,1947,1948,1949,1950,1951,1952,1953,1954,1955,1956,1957,1958,1959,1960,1961,1962,1963,1964,1965,1966,1967,1968,1969,1970,1971,1972,1973,1974,1975,1976,1977,1978,1979,1980,1981,1982,1983,1984,1985,1986,1987,1988,1989,1990,1991,1992,1993,1994,1995,1996,1997,1998,1999,2000,2001,2002,2003,2004,2005,2007,2008,2009,2010,2011,2012,2013,2014,2015,2016],\"y\":[53.3400703455331,56.659821787403864,59.09901845341522,60.81423433726132,61.60207694500599,62.1443489691063,61.401321170762756,60.267313254062394,64.07466705889121,63.72086925213036,62.45671622000079,63.68606527811599,60.68927970476428,61.30026506633468,62.39977982187864,63.789689575485326,63.91809346535181,63.54421577311477,62.055285828043466,62.8530927482277,61.810069003955675,61.281530047396764,65.38197814575709,66.62498583520443,67.03467893860284,66.82287295421963,66.03192073222182,66.45681994544512,64.69432434049084,66.35080026857837,65.36326768804463,65.02705725510191,65.55212462683244,64.50099074160742,64.25203473607995,60.61825556208993,60.43597324615722,59.39131280844598,59.04888063737772,59.981938789457956,59.70616401359898,64.77915775947123,63.8989723406663,64.92565197826836,64.96513747310848,65.16988260283952,61.18770768292623,61.39621933844123,61.038026534991424,61.03964005520395,63.73913881054887,64.27502595722125,66.09889537108847,65.58931552556662,64.47155695569997,59.87980824778849,58.59183426347539,59.96356117174012,60.178013439327664,63.57085906359197,63.9658256483093,64.03590253887137,65.15585876635137,60.4567547163772,61.03292925965863,64.90150854030145,65.68351368585945,65.92317679626909,61.989773663315425,61.837500747731156,65.84327580548836,66.29186736532176,66.51264727136586,66.21707467986259,61.03536272603506,60.56862652265211,66.06156573814681,65.96586360431178,64.9482324268709,66.08418567123148,62.47264599610165,60.820555984010156,67.85005092397968,66.07000408189862,63.409980299262024,63.44883464101602,67.80365419653576,68.45893936843432,64.61245380606204,68.57377670169606,67.92397583338557,62.484341266831876,63.3698709789941,63.88217445915768,63.14437870467003,62.4518844071139,59.321600819427,60.820669576426916,59.659186842009966,68.57037429921677,70.47691981845362,72.03933359551525,70.28153998845586,70.9367619519374,71.5374631730794,72.12713993005002,70.24962300772928,70.80867990534574,69.41060709223201,67.14555828312133,68.73675045641566,68.34106924789438,67.43763387536488,67.43417561063637,64.42449347265077,65.73171897474666,65.79383192442846,65.74389696402066,64.86797693339986,63.61115286937228,63.78981965232255,64.1417123375138,64.32153069374225,65.78003924873258,68.98733416123416,68.47521400030946,66.66382414179908,67.85812553483551,68.11180150125362,67.95353255049515,68.19490920460007,67.53975006055295,65.77910412162728,67.54160157091212]}},\"id\":\"1e715de4-5dff-42c5-bb31-8ae8db203d98\",\"type\":\"ColumnDataSource\"}],\"root_ids\":[\"195dca05-ec06-4f64-aea6-5659aec4b638\"]},\"title\":\"Bokeh Application\",\"version\":\"0.12.3\"}};\n",
       "            var render_items = [{\"docid\":\"5affbe6f-51f4-4af5-879e-503e13cf77b7\",\"elementid\":\"e18411b9-8654-416b-968c-3985dcdb5532\",\"modelid\":\"195dca05-ec06-4f64-aea6-5659aec4b638\"}];\n",
       "            \n",
       "            Bokeh.embed.embed_items(docs_json, render_items);\n",
       "        });\n",
       "      },\n",
       "      function(Bokeh) {\n",
       "      }\n",
       "    ];\n",
       "  \n",
       "    function run_inline_js() {\n",
       "      \n",
       "      if ((window.Bokeh !== undefined) || (force === \"1\")) {\n",
       "        for (var i = 0; i < inline_js.length; i++) {\n",
       "          inline_js[i](window.Bokeh);\n",
       "        }if (force === \"1\") {\n",
       "          display_loaded();\n",
       "        }} else if (Date.now() < window._bokeh_timeout) {\n",
       "        setTimeout(run_inline_js, 100);\n",
       "      } else if (!window._bokeh_failed_load) {\n",
       "        console.log(\"Bokeh: BokehJS failed to load within specified timeout.\");\n",
       "        window._bokeh_failed_load = true;\n",
       "      } else if (!force) {\n",
       "        var cell = $(\"#e18411b9-8654-416b-968c-3985dcdb5532\").parents('.cell').data().cell;\n",
       "        cell.output_area.append_execute_result(NB_LOAD_WARNING)\n",
       "      }\n",
       "  \n",
       "    }\n",
       "  \n",
       "    if (window._bokeh_is_loading === 0) {\n",
       "      console.log(\"Bokeh: BokehJS loaded, going straight to plotting\");\n",
       "      run_inline_js();\n",
       "    } else {\n",
       "      load_libs(js_urls, function() {\n",
       "        console.log(\"Bokeh: BokehJS plotting callback run at\", now());\n",
       "        run_inline_js();\n",
       "      });\n",
       "    }\n",
       "  }(this));\n",
       "</script>"
      ]
     },
     "metadata": {},
     "output_type": "display_data"
    }
   ],
   "source": [
    "# Plot using bokeh\n",
    "x = list(readability_score.keys())\n",
    "y = list(readability_score.values())\n",
    "\n",
    "p = figure(plot_width=900, plot_height=450)\n",
    "p.line(x, y, line_width=3)\n",
    "\n",
    "p.title.text='Flesch Reading Ease per Year'\n",
    "p.title.text_font='helvetica'\n",
    "\n",
    "p.xgrid.grid_line_color = None\n",
    "p.ygrid.grid_line_alpha = 0.9\n",
    "p.ygrid.grid_line_dash = [6, 4]\n",
    "\n",
    "p.xaxis.axis_label = \"Year\"\n",
    "p.yaxis.axis_label = \"Score\"\n",
    "p.yaxis[0].formatter = NumeralTickFormatter(format=\"0,0\")\n",
    "\n",
    "show(p)"
   ]
  },
  {
   "cell_type": "code",
   "execution_count": 26,
   "metadata": {
    "collapsed": false
   },
   "outputs": [
    {
     "data": {
      "image/png": "[encoded data removed]",
      "text/plain": [
       "<IPython.core.display.Image object>"
      ]
     },
     "execution_count": 26,
     "metadata": {},
     "output_type": "execute_result"
    }
   ],
   "source": [
    "from IPython.display import Image\n",
    "Image(\"./images/flesch-reading.png\")"
   ]
  },
  {
   "cell_type": "markdown",
   "metadata": {
    "collapsed": true
   },
   "source": [
    "# How Have Headlines with ?'s Changed?"
   ]
  },
  {
   "cell_type": "code",
   "execution_count": 15,
   "metadata": {
    "collapsed": false
   },
   "outputs": [
    {
     "name": "stdout",
     "output_type": "stream",
     "text": [
      "(80982, 1)\n"
     ]
    },
    {
     "data": {
      "text/html": [
       "<div>\n",
       "<table border=\"1\" class=\"dataframe\">\n",
       "  <thead>\n",
       "    <tr style=\"text-align: right;\">\n",
       "      <th></th>\n",
       "      <th>headlines</th>\n",
       "    </tr>\n",
       "  </thead>\n",
       "  <tbody>\n",
       "    <tr>\n",
       "      <th>1960-01-03</th>\n",
       "      <td>Teachers Doing Home's Work?</td>\n",
       "    </tr>\n",
       "    <tr>\n",
       "      <th>1960-01-04</th>\n",
       "      <td>Return to Reason?</td>\n",
       "    </tr>\n",
       "    <tr>\n",
       "      <th>1960-01-08</th>\n",
       "      <td>When Trout Fishermen Start Tying Flies Can Spr...</td>\n",
       "    </tr>\n",
       "    <tr>\n",
       "      <th>1960-01-10</th>\n",
       "      <td>The Issues: Peace Prosperity or -- ?; The main...</td>\n",
       "    </tr>\n",
       "    <tr>\n",
       "      <th>1960-01-10</th>\n",
       "      <td>ONCE AGAIN GRANDEUR FOR LA PATRIE?; De Gaulle ...</td>\n",
       "    </tr>\n",
       "  </tbody>\n",
       "</table>\n",
       "</div>"
      ],
      "text/plain": [
       "                                                    headlines\n",
       "1960-01-03                        Teachers Doing Home's Work?\n",
       "1960-01-04                                  Return to Reason?\n",
       "1960-01-08  When Trout Fishermen Start Tying Flies Can Spr...\n",
       "1960-01-10  The Issues: Peace Prosperity or -- ?; The main...\n",
       "1960-01-10  ONCE AGAIN GRANDEUR FOR LA PATRIE?; De Gaulle ..."
      ]
     },
     "execution_count": 15,
     "metadata": {},
     "output_type": "execute_result"
    }
   ],
   "source": [
    "# get all headlines containing a question mark:\n",
    "quest_rows = nyt_df.loc[nyt_df['headlines'].str.contains('\\?$')]\n",
    "print(quest_rows.shape)\n",
    "quest_rows.head()"
   ]
  },
  {
   "cell_type": "code",
   "execution_count": 16,
   "metadata": {
    "collapsed": true
   },
   "outputs": [],
   "source": [
    "# Extract the values for each year into a dictionary\n",
    "yrs_quest = {key:0 for key in range(1882, 2017)}\n",
    "yrs_quest = count_occurences(quest_rows, yrs_quest)"
   ]
  },
  {
   "cell_type": "markdown",
   "metadata": {},
   "source": [
    "## Now Let's Plot the Number of Headlines with ?'s "
   ]
  },
  {
   "cell_type": "code",
   "execution_count": 18,
   "metadata": {
    "collapsed": false
   },
   "outputs": [
    {
     "data": {
      "text/html": [
       "\n",
       "\n",
       "    <div class=\"bk-root\">\n",
       "        <div class=\"plotdiv\" id=\"3ce8690e-b67c-4f01-bf5d-ed604ea653b6\"></div>\n",
       "    </div>\n",
       "<script type=\"text/javascript\">\n",
       "  \n",
       "  (function(global) {\n",
       "    function now() {\n",
       "      return new Date();\n",
       "    }\n",
       "  \n",
       "    var force = \"\";\n",
       "  \n",
       "    if (typeof (window._bokeh_onload_callbacks) === \"undefined\" || force !== \"\") {\n",
       "      window._bokeh_onload_callbacks = [];\n",
       "      window._bokeh_is_loading = undefined;\n",
       "    }\n",
       "  \n",
       "  \n",
       "    \n",
       "    if (typeof (window._bokeh_timeout) === \"undefined\" || force !== \"\") {\n",
       "      window._bokeh_timeout = Date.now() + 0;\n",
       "      window._bokeh_failed_load = false;\n",
       "    }\n",
       "  \n",
       "    var NB_LOAD_WARNING = {'data': {'text/html':\n",
       "       \"<div style='background-color: #fdd'>\\n\"+\n",
       "       \"<p>\\n\"+\n",
       "       \"BokehJS does not appear to have successfully loaded. If loading BokehJS from CDN, this \\n\"+\n",
       "       \"may be due to a slow or bad network connection. Possible fixes:\\n\"+\n",
       "       \"</p>\\n\"+\n",
       "       \"<ul>\\n\"+\n",
       "       \"<li>re-rerun `output_notebook()` to attempt to load from CDN again, or</li>\\n\"+\n",
       "       \"<li>use INLINE resources instead, as so:</li>\\n\"+\n",
       "       \"</ul>\\n\"+\n",
       "       \"<code>\\n\"+\n",
       "       \"from bokeh.resources import INLINE\\n\"+\n",
       "       \"output_notebook(resources=INLINE)\\n\"+\n",
       "       \"</code>\\n\"+\n",
       "       \"</div>\"}};\n",
       "  \n",
       "    function display_loaded() {\n",
       "      if (window.Bokeh !== undefined) {\n",
       "        Bokeh.$(\"#3ce8690e-b67c-4f01-bf5d-ed604ea653b6\").text(\"BokehJS successfully loaded.\");\n",
       "      } else if (Date.now() < window._bokeh_timeout) {\n",
       "        setTimeout(display_loaded, 100)\n",
       "      }\n",
       "    }\n",
       "  \n",
       "    function run_callbacks() {\n",
       "      window._bokeh_onload_callbacks.forEach(function(callback) { callback() });\n",
       "      delete window._bokeh_onload_callbacks\n",
       "      console.info(\"Bokeh: all callbacks have finished\");\n",
       "    }\n",
       "  \n",
       "    function load_libs(js_urls, callback) {\n",
       "      window._bokeh_onload_callbacks.push(callback);\n",
       "      if (window._bokeh_is_loading > 0) {\n",
       "        console.log(\"Bokeh: BokehJS is being loaded, scheduling callback at\", now());\n",
       "        return null;\n",
       "      }\n",
       "      if (js_urls == null || js_urls.length === 0) {\n",
       "        run_callbacks();\n",
       "        return null;\n",
       "      }\n",
       "      console.log(\"Bokeh: BokehJS not loaded, scheduling load and callback at\", now());\n",
       "      window._bokeh_is_loading = js_urls.length;\n",
       "      for (var i = 0; i < js_urls.length; i++) {\n",
       "        var url = js_urls[i];\n",
       "        var s = document.createElement('script');\n",
       "        s.src = url;\n",
       "        s.async = false;\n",
       "        s.onreadystatechange = s.onload = function() {\n",
       "          window._bokeh_is_loading--;\n",
       "          if (window._bokeh_is_loading === 0) {\n",
       "            console.log(\"Bokeh: all BokehJS libraries loaded\");\n",
       "            run_callbacks()\n",
       "          }\n",
       "        };\n",
       "        s.onerror = function() {\n",
       "          console.warn(\"failed to load library \" + url);\n",
       "        };\n",
       "        console.log(\"Bokeh: injecting script tag for BokehJS library: \", url);\n",
       "        document.getElementsByTagName(\"head\")[0].appendChild(s);\n",
       "      }\n",
       "    };var element = document.getElementById(\"3ce8690e-b67c-4f01-bf5d-ed604ea653b6\");\n",
       "    if (element == null) {\n",
       "      console.log(\"Bokeh: ERROR: autoload.js configured with elementid '3ce8690e-b67c-4f01-bf5d-ed604ea653b6' but no matching script tag was found. \")\n",
       "      return false;\n",
       "    }\n",
       "  \n",
       "    var js_urls = [];\n",
       "  \n",
       "    var inline_js = [\n",
       "      function(Bokeh) {\n",
       "        Bokeh.$(function() {\n",
       "            var docs_json = {\"ba509bab-4ddb-4ff1-ba6b-50cfb01f9ee6\":{\"roots\":{\"references\":[{\"attributes\":{\"overlay\":{\"id\":\"11682204-6048-44bc-8bda-996f753b1bb8\",\"type\":\"BoxAnnotation\"},\"plot\":{\"id\":\"7a45261d-5582-46f8-81bb-70897988b9c4\",\"subtype\":\"Figure\",\"type\":\"Plot\"}},\"id\":\"70e25ea4-2a16-44ba-a6d1-74631b74df7f\",\"type\":\"BoxZoomTool\"},{\"attributes\":{\"axis_label\":\"Number\",\"formatter\":{\"id\":\"428cb8ec-8ff5-490f-8117-da277df8f9bf\",\"type\":\"NumeralTickFormatter\"},\"plot\":{\"id\":\"7a45261d-5582-46f8-81bb-70897988b9c4\",\"subtype\":\"Figure\",\"type\":\"Plot\"},\"ticker\":{\"id\":\"bb8ecf21-c05b-4711-a814-d3ae0e91aaa9\",\"type\":\"BasicTicker\"}},\"id\":\"c6e1ded3-1627-449c-8d47-bea8f47f846d\",\"type\":\"LinearAxis\"},{\"attributes\":{\"data_source\":{\"id\":\"2136dfbc-f694-4fed-9fde-0c9238b9c641\",\"type\":\"ColumnDataSource\"},\"glyph\":{\"id\":\"fc40cf8d-4290-4314-809d-5f71804b1aca\",\"type\":\"Line\"},\"hover_glyph\":null,\"nonselection_glyph\":{\"id\":\"053174d2-88d4-41c2-bfc5-cf33cf27790a\",\"type\":\"Line\"},\"selection_glyph\":null},\"id\":\"9fc34a7e-c7d3-4330-bddd-e3925bfd6b70\",\"type\":\"GlyphRenderer\"},{\"attributes\":{\"below\":[{\"id\":\"806f2d6b-e2c3-4106-a1bd-bbbb58cc8ec4\",\"type\":\"LinearAxis\"}],\"left\":[{\"id\":\"c6e1ded3-1627-449c-8d47-bea8f47f846d\",\"type\":\"LinearAxis\"}],\"plot_height\":450,\"plot_width\":900,\"renderers\":[{\"id\":\"806f2d6b-e2c3-4106-a1bd-bbbb58cc8ec4\",\"type\":\"LinearAxis\"},{\"id\":\"cbbb982d-fe15-4e88-9f2b-9484ea11dd76\",\"type\":\"Grid\"},{\"id\":\"c6e1ded3-1627-449c-8d47-bea8f47f846d\",\"type\":\"LinearAxis\"},{\"id\":\"e46699d4-842c-488d-969f-cc9dd30c9b34\",\"type\":\"Grid\"},{\"id\":\"11682204-6048-44bc-8bda-996f753b1bb8\",\"type\":\"BoxAnnotation\"},{\"id\":\"9fc34a7e-c7d3-4330-bddd-e3925bfd6b70\",\"type\":\"GlyphRenderer\"}],\"title\":{\"id\":\"baff1a3b-4a74-40b9-863f-e64c073d531f\",\"type\":\"Title\"},\"tool_events\":{\"id\":\"4fc69a76-f15e-4cb8-8d40-65aa3f5412d8\",\"type\":\"ToolEvents\"},\"toolbar\":{\"id\":\"48f6ccca-07ef-4da2-ac76-85dd9fe777dd\",\"type\":\"Toolbar\"},\"x_range\":{\"id\":\"78046885-580e-4b8a-ab0f-1d037ec120a4\",\"type\":\"DataRange1d\"},\"y_range\":{\"id\":\"f9da5df3-b6f5-4ecb-86de-b6f33ed6caa4\",\"type\":\"DataRange1d\"}},\"id\":\"7a45261d-5582-46f8-81bb-70897988b9c4\",\"subtype\":\"Figure\",\"type\":\"Plot\"},{\"attributes\":{\"callback\":null},\"id\":\"f9da5df3-b6f5-4ecb-86de-b6f33ed6caa4\",\"type\":\"DataRange1d\"},{\"attributes\":{\"plot\":null,\"text\":\"Number of Articles Containing Question Marks?\"},\"id\":\"baff1a3b-4a74-40b9-863f-e64c073d531f\",\"type\":\"Title\"},{\"attributes\":{\"bottom_units\":\"screen\",\"fill_alpha\":{\"value\":0.5},\"fill_color\":{\"value\":\"lightgrey\"},\"left_units\":\"screen\",\"level\":\"overlay\",\"line_alpha\":{\"value\":1.0},\"line_color\":{\"value\":\"black\"},\"line_dash\":[4,4],\"line_width\":{\"value\":2},\"plot\":null,\"render_mode\":\"css\",\"right_units\":\"screen\",\"top_units\":\"screen\"},\"id\":\"11682204-6048-44bc-8bda-996f753b1bb8\",\"type\":\"BoxAnnotation\"},{\"attributes\":{\"grid_line_color\":{\"value\":null},\"plot\":{\"id\":\"7a45261d-5582-46f8-81bb-70897988b9c4\",\"subtype\":\"Figure\",\"type\":\"Plot\"},\"ticker\":{\"id\":\"f80f3c8d-52d5-47e5-8fc6-23baebcf4071\",\"type\":\"BasicTicker\"}},\"id\":\"cbbb982d-fe15-4e88-9f2b-9484ea11dd76\",\"type\":\"Grid\"},{\"attributes\":{\"plot\":{\"id\":\"7a45261d-5582-46f8-81bb-70897988b9c4\",\"subtype\":\"Figure\",\"type\":\"Plot\"}},\"id\":\"e2aa9311-eaa6-4cd3-9ca9-ad753728f137\",\"type\":\"HelpTool\"},{\"attributes\":{\"plot\":{\"id\":\"7a45261d-5582-46f8-81bb-70897988b9c4\",\"subtype\":\"Figure\",\"type\":\"Plot\"}},\"id\":\"cd5e550b-011e-4282-9f61-af9c324a15f0\",\"type\":\"WheelZoomTool\"},{\"attributes\":{},\"id\":\"bb8ecf21-c05b-4711-a814-d3ae0e91aaa9\",\"type\":\"BasicTicker\"},{\"attributes\":{\"callback\":null,\"column_names\":[\"y\",\"x\"],\"data\":{\"x\":[1882,1883,1884,1885,1886,1887,1888,1889,1890,1891,1892,1893,1894,1895,1896,1897,1898,1899,1900,1901,1902,1903,1904,1905,1906,1907,1908,1909,1910,1911,1912,1913,1914,1915,1916,1917,1918,1919,1920,1921,1922,1923,1924,1925,1926,1927,1928,1929,1930,1931,1932,1933,1934,1935,1936,1937,1938,1939,1940,1941,1942,1943,1944,1945,1946,1947,1948,1949,1950,1951,1952,1953,1954,1955,1956,1957,1958,1959,1960,1961,1962,1963,1964,1965,1966,1967,1968,1969,1970,1971,1972,1973,1974,1975,1976,1977,1978,1979,1980,1981,1982,1983,1984,1985,1986,1987,1988,1989,1990,1991,1992,1993,1994,1995,1996,1997,1998,1999,2000,2001,2002,2003,2004,2005,2006,2007,2008,2009,2010,2011,2012,2013,2014,2015,2016],\"y\":[96,121,145,173,144,173,194,193,162,131,125,98,131,187,200,176,228,263,379,237,161,161,220,268,293,193,173,198,165,176,209,197,193,287,199,179,196,217,148,131,110,126,91,57,119,115,100,96,83,83,98,76,76,110,106,102,127,140,101,120,103,121,129,99,108,121,108,113,122,165,119,117,183,175,209,0,0,0,241,237,273,277,377,444,496,434,635,657,658,1009,984,545,490,571,649,703,426,592,577,767,652,674,688,867,966,1284,1462,1519,1628,1151,1237,1228,1356,1365,1479,1334,1800,1961,1626,1448,1742,1942,2122,2321,0,309,3374,3198,3094,3570,2932,1790,1888,1687,1698]}},\"id\":\"2136dfbc-f694-4fed-9fde-0c9238b9c641\",\"type\":\"ColumnDataSource\"},{\"attributes\":{\"callback\":null},\"id\":\"78046885-580e-4b8a-ab0f-1d037ec120a4\",\"type\":\"DataRange1d\"},{\"attributes\":{\"plot\":{\"id\":\"7a45261d-5582-46f8-81bb-70897988b9c4\",\"subtype\":\"Figure\",\"type\":\"Plot\"}},\"id\":\"93034179-a52e-4eb4-a140-181b0c55386c\",\"type\":\"PanTool\"},{\"attributes\":{},\"id\":\"4fc69a76-f15e-4cb8-8d40-65aa3f5412d8\",\"type\":\"ToolEvents\"},{\"attributes\":{},\"id\":\"7d4be643-d2f9-4ecb-a909-53583c4e00bf\",\"type\":\"BasicTickFormatter\"},{\"attributes\":{},\"id\":\"f80f3c8d-52d5-47e5-8fc6-23baebcf4071\",\"type\":\"BasicTicker\"},{\"attributes\":{\"plot\":{\"id\":\"7a45261d-5582-46f8-81bb-70897988b9c4\",\"subtype\":\"Figure\",\"type\":\"Plot\"}},\"id\":\"11d8ce0a-15a0-4378-9115-6b38da0e571d\",\"type\":\"SaveTool\"},{\"attributes\":{\"axis_label\":\"Year\",\"formatter\":{\"id\":\"7d4be643-d2f9-4ecb-a909-53583c4e00bf\",\"type\":\"BasicTickFormatter\"},\"plot\":{\"id\":\"7a45261d-5582-46f8-81bb-70897988b9c4\",\"subtype\":\"Figure\",\"type\":\"Plot\"},\"ticker\":{\"id\":\"f80f3c8d-52d5-47e5-8fc6-23baebcf4071\",\"type\":\"BasicTicker\"}},\"id\":\"806f2d6b-e2c3-4106-a1bd-bbbb58cc8ec4\",\"type\":\"LinearAxis\"},{\"attributes\":{\"plot\":{\"id\":\"7a45261d-5582-46f8-81bb-70897988b9c4\",\"subtype\":\"Figure\",\"type\":\"Plot\"}},\"id\":\"4ce6b992-5c2c-48f9-abdd-719b9b81421e\",\"type\":\"ResetTool\"},{\"attributes\":{},\"id\":\"428cb8ec-8ff5-490f-8117-da277df8f9bf\",\"type\":\"NumeralTickFormatter\"},{\"attributes\":{\"active_drag\":\"auto\",\"active_scroll\":\"auto\",\"active_tap\":\"auto\",\"tools\":[{\"id\":\"93034179-a52e-4eb4-a140-181b0c55386c\",\"type\":\"PanTool\"},{\"id\":\"cd5e550b-011e-4282-9f61-af9c324a15f0\",\"type\":\"WheelZoomTool\"},{\"id\":\"70e25ea4-2a16-44ba-a6d1-74631b74df7f\",\"type\":\"BoxZoomTool\"},{\"id\":\"11d8ce0a-15a0-4378-9115-6b38da0e571d\",\"type\":\"SaveTool\"},{\"id\":\"4ce6b992-5c2c-48f9-abdd-719b9b81421e\",\"type\":\"ResetTool\"},{\"id\":\"e2aa9311-eaa6-4cd3-9ca9-ad753728f137\",\"type\":\"HelpTool\"}]},\"id\":\"48f6ccca-07ef-4da2-ac76-85dd9fe777dd\",\"type\":\"Toolbar\"},{\"attributes\":{\"line_color\":{\"value\":\"#1f77b4\"},\"line_width\":{\"value\":3},\"x\":{\"field\":\"x\"},\"y\":{\"field\":\"y\"}},\"id\":\"fc40cf8d-4290-4314-809d-5f71804b1aca\",\"type\":\"Line\"},{\"attributes\":{\"dimension\":1,\"grid_line_alpha\":{\"value\":0.9},\"grid_line_dash\":[6,4],\"plot\":{\"id\":\"7a45261d-5582-46f8-81bb-70897988b9c4\",\"subtype\":\"Figure\",\"type\":\"Plot\"},\"ticker\":{\"id\":\"bb8ecf21-c05b-4711-a814-d3ae0e91aaa9\",\"type\":\"BasicTicker\"}},\"id\":\"e46699d4-842c-488d-969f-cc9dd30c9b34\",\"type\":\"Grid\"},{\"attributes\":{\"line_alpha\":{\"value\":0.1},\"line_color\":{\"value\":\"#1f77b4\"},\"line_width\":{\"value\":3},\"x\":{\"field\":\"x\"},\"y\":{\"field\":\"y\"}},\"id\":\"053174d2-88d4-41c2-bfc5-cf33cf27790a\",\"type\":\"Line\"}],\"root_ids\":[\"7a45261d-5582-46f8-81bb-70897988b9c4\"]},\"title\":\"Bokeh Application\",\"version\":\"0.12.3\"}};\n",
       "            var render_items = [{\"docid\":\"ba509bab-4ddb-4ff1-ba6b-50cfb01f9ee6\",\"elementid\":\"3ce8690e-b67c-4f01-bf5d-ed604ea653b6\",\"modelid\":\"7a45261d-5582-46f8-81bb-70897988b9c4\"}];\n",
       "            \n",
       "            Bokeh.embed.embed_items(docs_json, render_items);\n",
       "        });\n",
       "      },\n",
       "      function(Bokeh) {\n",
       "      }\n",
       "    ];\n",
       "  \n",
       "    function run_inline_js() {\n",
       "      \n",
       "      if ((window.Bokeh !== undefined) || (force === \"1\")) {\n",
       "        for (var i = 0; i < inline_js.length; i++) {\n",
       "          inline_js[i](window.Bokeh);\n",
       "        }if (force === \"1\") {\n",
       "          display_loaded();\n",
       "        }} else if (Date.now() < window._bokeh_timeout) {\n",
       "        setTimeout(run_inline_js, 100);\n",
       "      } else if (!window._bokeh_failed_load) {\n",
       "        console.log(\"Bokeh: BokehJS failed to load within specified timeout.\");\n",
       "        window._bokeh_failed_load = true;\n",
       "      } else if (!force) {\n",
       "        var cell = $(\"#3ce8690e-b67c-4f01-bf5d-ed604ea653b6\").parents('.cell').data().cell;\n",
       "        cell.output_area.append_execute_result(NB_LOAD_WARNING)\n",
       "      }\n",
       "  \n",
       "    }\n",
       "  \n",
       "    if (window._bokeh_is_loading === 0) {\n",
       "      console.log(\"Bokeh: BokehJS loaded, going straight to plotting\");\n",
       "      run_inline_js();\n",
       "    } else {\n",
       "      load_libs(js_urls, function() {\n",
       "        console.log(\"Bokeh: BokehJS plotting callback run at\", now());\n",
       "        run_inline_js();\n",
       "      });\n",
       "    }\n",
       "  }(this));\n",
       "</script>"
      ]
     },
     "metadata": {},
     "output_type": "display_data"
    }
   ],
   "source": [
    "# Plot using bokeh\n",
    "x = list(yrs_quest.keys())\n",
    "y = list(yrs_quest.values())\n",
    "\n",
    "p = figure(plot_width=900, plot_height=450)\n",
    "p.line(x, y, line_width=3)\n",
    "\n",
    "p.title.text='Number of Articles Containing Question Marks?'\n",
    "p.title.text_font='helvetica'\n",
    "\n",
    "p.xgrid.grid_line_color = None\n",
    "p.ygrid.grid_line_alpha = 0.9\n",
    "p.ygrid.grid_line_dash = [6, 4]\n",
    "\n",
    "p.xaxis.axis_label = \"Year\"\n",
    "p.yaxis.axis_label = \"Number\"\n",
    "p.yaxis[0].formatter = NumeralTickFormatter(format=\"0,0\")\n",
    "\n",
    "show(p)"
   ]
  },
  {
   "cell_type": "code",
   "execution_count": 31,
   "metadata": {
    "collapsed": false
   },
   "outputs": [
    {
     "data": {
      "image/png": "[encoded data removed]",
      "text/plain": [
       "<IPython.core.display.Image object>"
      ]
     },
     "execution_count": 31,
     "metadata": {},
     "output_type": "execute_result"
    }
   ],
   "source": [
    "from IPython.display import Image\n",
    "Image(\"./images/question-marks.png\")"
   ]
  },
  {
   "cell_type": "markdown",
   "metadata": {},
   "source": [
    "## It appears that there is an upwards trend in the average number of headlines with question marks!"
   ]
  }
 ],
 "metadata": {
  "anaconda-cloud": {},
  "kernelspec": {
   "display_name": "Python [conda env:cs489]",
   "language": "python",
   "name": "conda-env-cs489-py"
  },
  "language_info": {
   "codemirror_mode": {
    "name": "ipython",
    "version": 2
   },
   "file_extension": ".py",
   "mimetype": "text/x-python",
   "name": "python",
   "nbconvert_exporter": "python",
   "pygments_lexer": "ipython2",
   "version": "2.7.12"
  }
 },
 "nbformat": 4,
 "nbformat_minor": 1
}
